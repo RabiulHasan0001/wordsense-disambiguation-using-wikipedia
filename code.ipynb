{
 "cells": [
  {
   "cell_type": "markdown",
   "metadata": {},
   "source": [
    "### Wikipedia2Vec Installation and Familiarization"
   ]
  },
  {
   "cell_type": "code",
   "execution_count": null,
   "metadata": {},
   "outputs": [],
   "source": [
    "pip install wikipedia2vec"
   ]
  },
  {
   "cell_type": "code",
   "execution_count": 37,
   "metadata": {},
   "outputs": [],
   "source": [
    "from wikipedia2vec import Wikipedia2Vec"
   ]
  },
  {
   "cell_type": "code",
   "execution_count": null,
   "metadata": {},
   "outputs": [],
   "source": [
    "# link for the pre-trained embeddings: http://wikipedia2vec.s3.amazonaws.com/models/en/2018-04-20/enwiki_20180420_100d.txt.bz2"
   ]
  },
  {
   "cell_type": "code",
   "execution_count": null,
   "metadata": {},
   "outputs": [
    {
     "name": "stdout",
     "output_type": "stream",
     "text": [
      "Current working directory: d:\\Academic-Oulu\\Natural Language Processing and Text Mining 521158S-3005\\Group Projects\\Project28 - Wordsense Disambiguation\\wordsense-disambiguation-using-wikipedia\n"
     ]
    }
   ],
   "source": [
    "import os\n",
    "\n",
    "# check the current working directory\n",
    "current_directory = os.getcwd()\n",
    "print(f\"Current working directory: {current_directory}\")"
   ]
  },
  {
   "cell_type": "code",
   "execution_count": null,
   "metadata": {},
   "outputs": [
    {
     "name": "stdout",
     "output_type": "stream",
     "text": [
      "File downloaded successfully.\n"
     ]
    }
   ],
   "source": [
    "import requests\n",
    "\n",
    "# URL of the pretrained model - from wikipedia2vec site - https://wikipedia2vec.github.io/wikipedia2vec/pretrained/\n",
    "url = 'http://wikipedia2vec.s3.amazonaws.com/models/en/2018-04-20/enwiki_20180420_100d.pkl.bz2'\n",
    "\n",
    "# GET request to the URL\n",
    "response = requests.get(url)\n",
    "\n",
    "# saving the zipped content file\n",
    "with open('enwiki_20180420_100d.pkl.bz2', 'wb') as file:\n",
    "    file.write(response.content)\n",
    "\n",
    "print(\"File downloaded successfully.\")"
   ]
  },
  {
   "cell_type": "code",
   "execution_count": null,
   "metadata": {},
   "outputs": [],
   "source": [
    "# load pre-trained embeddings - en\n",
    "wiki2vec = Wikipedia2Vec.load('enwiki_20180420_100d.pkl')"
   ]
  },
  {
   "cell_type": "code",
   "execution_count": null,
   "metadata": {},
   "outputs": [],
   "source": [
    "# xxample: Get the embedding for the word \"chair\"\n",
    "word_embedding = wiki2vec.get_word('chair')\n",
    "\n",
    "# xxample: Get the embedding for an entity \"Chair (academic position)\"\n",
    "entity_embedding = wiki2vec.get_entity('Chair')"
   ]
  },
  {
   "cell_type": "code",
   "execution_count": 47,
   "metadata": {},
   "outputs": [
    {
     "name": "stdout",
     "output_type": "stream",
     "text": [
      "<Word chair>\n",
      "<Entity Chair>\n"
     ]
    }
   ],
   "source": [
    "print(word_embedding)\n",
    "print(entity_embedding)"
   ]
  },
  {
   "cell_type": "code",
   "execution_count": null,
   "metadata": {},
   "outputs": [
    {
     "name": "stdout",
     "output_type": "stream",
     "text": [
      "<Word awarded>\n",
      "<Word computer>\n",
      "<Word science>\n"
     ]
    }
   ],
   "source": [
    "# familiarizing with the Wikipedia2Vec functions available\n",
    "\n",
    "word_embedding1 = wiki2vec.get_word('awarded')\n",
    "word_embedding2 = wiki2vec.get_word('computer')\n",
    "word_embedding3 = wiki2vec.get_word('science')\n",
    "\n",
    "print(word_embedding1)\n",
    "print(word_embedding2)\n",
    "print(word_embedding3)"
   ]
  },
  {
   "cell_type": "code",
   "execution_count": 30,
   "metadata": {},
   "outputs": [],
   "source": [
    "word_vec_emb = wiki2vec.get_word_vector('chair')\n",
    "word_vec_emb1 = wiki2vec.get_word_vector('awarded')\n",
    "word_vec_emb2 = wiki2vec.get_word_vector('computer')\n",
    "word_vec_emb3 = wiki2vec.get_word_vector('science')"
   ]
  },
  {
   "cell_type": "code",
   "execution_count": null,
   "metadata": {},
   "outputs": [],
   "source": [
    "print(word_vec_emb)\n",
    "print(word_vec_emb1)\n",
    "print(word_vec_emb2)\n",
    "print(word_vec_emb3)"
   ]
  },
  {
   "cell_type": "code",
   "execution_count": null,
   "metadata": {},
   "outputs": [
    {
     "data": {
      "text/plain": [
       "(100,)"
      ]
     },
     "execution_count": 28,
     "metadata": {},
     "output_type": "execute_result"
    }
   ],
   "source": [
    "# identify the shape of the vector from the pre-trained embedding model loaded\n",
    "wiki2vec.get_word_vector('awarded').shape"
   ]
  },
  {
   "cell_type": "code",
   "execution_count": 237,
   "metadata": {},
   "outputs": [
    {
     "data": {
      "text/plain": [
       "[ItemWithScore(item=<Word chair>, score=1.0000001192092896),\n",
       " ItemWithScore(item=<Word chairperson>, score=0.7606598138809204),\n",
       " ItemWithScore(item=<Word chairs>, score=0.756527304649353),\n",
       " ItemWithScore(item=<Word chaired>, score=0.7564043402671814),\n",
       " ItemWithScore(item=<Word chairing>, score=0.7534357309341431)]"
      ]
     },
     "execution_count": 237,
     "metadata": {},
     "output_type": "execute_result"
    }
   ],
   "source": [
    "# calculating the most similar vector embedding words to a given word\n",
    "wiki2vec.most_similar(wiki2vec.get_word('chair'), 5)"
   ]
  },
  {
   "cell_type": "code",
   "execution_count": null,
   "metadata": {},
   "outputs": [
    {
     "data": {
      "text/plain": [
       "[ItemWithScore(item=<Entity Chair>, score=0.9999998807907104),\n",
       " ItemWithScore(item=<Entity Crate>, score=0.6209840774536133),\n",
       " ItemWithScore(item=<Word ladderback>, score=0.6175653338432312),\n",
       " ItemWithScore(item=<Entity Armrest>, score=0.6162238121032715),\n",
       " ItemWithScore(item=<Word chairs>, score=0.6137146353721619)]"
      ]
     },
     "execution_count": 55,
     "metadata": {},
     "output_type": "execute_result"
    }
   ],
   "source": [
    "# calculating the most similar vector embedding entity to a given word\n",
    "wiki2vec.most_similar(wiki2vec.get_entity('Chair'), 5)"
   ]
  },
  {
   "cell_type": "code",
   "execution_count": null,
   "metadata": {},
   "outputs": [
    {
     "name": "stdout",
     "output_type": "stream",
     "text": [
      "Similarity with 'chair': 0.3565337648193474\n",
      "Similarity with 'chair': 0.3353887714813817\n",
      "Similarity with 'chair': 0.40236920563885914\n"
     ]
    }
   ],
   "source": [
    "import numpy as np\n",
    "from scipy.spatial.distance import cosine\n",
    "\n",
    "# function for cosine similarity calculation\n",
    "def cosine_similarity(vec1, vec2):\n",
    "        return 1 - cosine(vec1,vec2)\n",
    "\n",
    "# get context word embeddings\n",
    "context_embeddings = [wiki2vec.get_word_vector(word) for word in [\"awarded\", \"computer\", \"science\"]]\n",
    "\n",
    "# calculate similarity between each context word and the target word\n",
    "for context in context_embeddings:\n",
    "    similarity_score = cosine_similarity(word_vec_emb, context)\n",
    "    print(\"Similarity with 'chair':\", similarity_score)\n"
   ]
  },
  {
   "cell_type": "markdown",
   "metadata": {},
   "source": [
    "#### Project 28: Wordsense Disambiguation Using Wikipedia\n",
    "- Question 6) Instead of the Wikisim Framework (which is outdated and difficult to implement with running the servers and populating the graph databases), using Wikipedia2Vec framework."
   ]
  },
  {
   "cell_type": "markdown",
   "metadata": {},
   "source": [
    "#### Import libraries required for WSD\n"
   ]
  },
  {
   "cell_type": "code",
   "execution_count": null,
   "metadata": {},
   "outputs": [],
   "source": [
    "#import libraries\n",
    "import nltk\n",
    "from nltk.wsd import lesk\n",
    "from nltk.corpus import wordnet as wn"
   ]
  },
  {
   "cell_type": "code",
   "execution_count": null,
   "metadata": {},
   "outputs": [],
   "source": [
    "#install Wikipedia2Vec framework\n",
    "pip install wikipedia2vec"
   ]
  },
  {
   "cell_type": "code",
   "execution_count": null,
   "metadata": {},
   "outputs": [],
   "source": [
    "# download required knowledge bases for comparison\n",
    "nltk.download('wordnet')"
   ]
  },
  {
   "cell_type": "code",
   "execution_count": null,
   "metadata": {},
   "outputs": [],
   "source": [
    "# download senseval-2 dataset for evaluation\n",
    "nltk.download(\"senseval\")"
   ]
  },
  {
   "cell_type": "code",
   "execution_count": null,
   "metadata": {},
   "outputs": [
    {
     "name": "stdout",
     "output_type": "stream",
     "text": [
      "File downloaded successfully.\n"
     ]
    }
   ],
   "source": [
    "import requests\n",
    "\n",
    "# get the pre-trained embeddings from the URL : specs --> enwiki_20180420 (window=5, iteration=10, negative=15): 100d (bin) - each embedding has 100 dimension vector (100,)\n",
    "url = 'http://wikipedia2vec.s3.amazonaws.com/models/en/2018-04-20/enwiki_20180420_100d.pkl.bz2'\n",
    "\n",
    "# GET request to the URL\n",
    "response = requests.get(url)\n",
    "\n",
    "# save the wikipedia embedding content as a bz2 zip file \n",
    "with open('enwiki_20180420_100d.pkl.bz2', 'wb') as file:\n",
    "    file.write(response.content)\n",
    "\n",
    "print(\"File downloaded successfully.\")"
   ]
  },
  {
   "cell_type": "code",
   "execution_count": null,
   "metadata": {},
   "outputs": [],
   "source": [
    "# import the framework\n",
    "from wikipedia2vec import Wikipedia2Vec\n",
    "\n",
    "# extract the downloaded zip file manually and load the pre-trained embeddings file (extension type .pkl)\n",
    "wiki2vec = Wikipedia2Vec.load('enwiki_20180420_100d.pkl')"
   ]
  },
  {
   "cell_type": "code",
   "execution_count": null,
   "metadata": {},
   "outputs": [
    {
     "name": "stdout",
     "output_type": "stream",
     "text": [
      "Word 'look' embedding exist: <Word look>\n",
      "Word 'watch' embedding exist: <Word watch>\n"
     ]
    }
   ],
   "source": [
    "# task 1 : run simple similarity between word pairs\n",
    "\n",
    "# define example words\n",
    "word1 = \"look\"\n",
    "word2 = \"watch\"\n",
    "\n",
    "# function to check whether for a given word embedding exists otherwise return None\n",
    "def check_embedding_exist(word):\n",
    "    word_emb = wiki2vec.get_word(word)\n",
    "    if word_emb != None:\n",
    "        print(f\"Word '{word}' embedding exist: {word_emb}\")\n",
    "    else:\n",
    "        print(f\"Word '{word}' not found in Wikipedia2Vec embeddings, using lowercase words might solve the issue\")\n",
    "\n",
    "# check word embedding existence using loaded embedding database in wiki2vec\n",
    "check_embedding_exist(word1)\n",
    "check_embedding_exist(word2)"
   ]
  },
  {
   "cell_type": "code",
   "execution_count": null,
   "metadata": {},
   "outputs": [
    {
     "name": "stdout",
     "output_type": "stream",
     "text": [
      "similarity between 'look' and 'watch': 0.5782222618096504\n"
     ]
    }
   ],
   "source": [
    "# import cosine\n",
    "from scipy.spatial.distance import cosine\n",
    "\n",
    "# Function for cosine similarity calculation\n",
    "def cosine_similarity(vec1, vec2):\n",
    "    return 1 - cosine(vec1,vec2)\n",
    "\n",
    "# function to extract the embeddings for a given word if exists otherwise return None\n",
    "def get_embedding(word):\n",
    "    try:\n",
    "        return wiki2vec.get_word_vector(word)\n",
    "    except KeyError:\n",
    "        print(f\"'{word}' not found in Wikipedia2Vec embeddings\")\n",
    "        return None\n",
    "\n",
    "# get the embedding vectors of each for cosine similarity\n",
    "word1_vec_embedding = wiki2vec.get_word_vector(word1)\n",
    "word2_vec_embedding = wiki2vec.get_word_vector(word2)\n",
    "\n",
    "similarity_score = cosine_similarity(word1_vec_embedding, word2_vec_embedding)\n",
    "print(f\"similarity between '{word1}' and '{word2}':\", similarity_score)"
   ]
  },
  {
   "cell_type": "code",
   "execution_count": null,
   "metadata": {},
   "outputs": [],
   "source": [
    "# provided sentence S\n",
    "sentence = \"I was awarded a chair in computer science\"\n",
    "target_word = \"chair\""
   ]
  },
  {
   "cell_type": "code",
   "execution_count": 291,
   "metadata": {},
   "outputs": [
    {
     "name": "stdout",
     "output_type": "stream",
     "text": [
      "[('I', 'PRP'), ('was', 'VBD'), ('awarded', 'VBN'), ('a', 'DT'), ('chair', 'NN'), ('in', 'IN'), ('computer', 'NN'), ('science', 'NN')]\n"
     ]
    }
   ],
   "source": [
    "from nltk.tokenize import word_tokenize\n",
    "from nltk import pos_tag\n",
    "\n",
    "words = word_tokenize(sentence)\n",
    "\n",
    "# get pos tags associated to all words in the sentence\n",
    "pos_words = pos_tag(words)\n",
    "print(pos_words)"
   ]
  },
  {
   "cell_type": "code",
   "execution_count": 292,
   "metadata": {},
   "outputs": [
    {
     "name": "stdout",
     "output_type": "stream",
     "text": [
      "['awarded', 'computer', 'science']\n"
     ]
    }
   ],
   "source": [
    "from nltk.tokenize import word_tokenize\n",
    "from nltk import pos_tag\n",
    "\n",
    "def preProcess(sentence):\n",
    "    # tokenize and extract stop word list in English\n",
    "    Stopwords = list(set(nltk.corpus.stopwords.words('english')))\n",
    "    words = word_tokenize(sentence)\n",
    "\n",
    "    # get pos tags associated to all words in the sentence\n",
    "    pos_words = pos_tag(words)\n",
    "    \n",
    "    # filtering\n",
    "    words = [word.lower() for (word,pos) in pos_words if word.isalpha() and word not in Stopwords and pos not in ('PRP') and word != target_word] \n",
    "    return words\n",
    "\n",
    "context_words = preProcess(sentence.lower())\n",
    "print(context_words)"
   ]
  },
  {
   "cell_type": "code",
   "execution_count": null,
   "metadata": {},
   "outputs": [
    {
     "name": "stdout",
     "output_type": "stream",
     "text": [
      "Lesk selected sense: Synset('chair.v.01')\n",
      "Definition: act or preside as chair, as of an academic department in a university\n"
     ]
    }
   ],
   "source": [
    "from nltk.wsd import lesk\n",
    "\n",
    "# applying Lesk algorithm\n",
    "lesk_sense = lesk(sentence.split(), target_word)\n",
    "\n",
    "# display the synset name and definition for most overlapping sense\n",
    "print(\"Lesk selected sense:\", lesk_sense)\n",
    "print(\"Definition:\", lesk_sense.definition())"
   ]
  },
  {
   "cell_type": "code",
   "execution_count": null,
   "metadata": {},
   "outputs": [],
   "source": [
    "# using wikipedia2Vec extract the embeddings for the target word and context words\n",
    "\n",
    "target_embedding = get_embedding(target_word)\n",
    "context_embeddings = {word: get_embedding(word) for word in context_words if get_embedding(word) is not None}\n",
    "\n",
    "print(\"Target embedding:\", target_embedding)\n",
    "print(\"Context embeddings:\", context_embeddings)"
   ]
  },
  {
   "cell_type": "code",
   "execution_count": 311,
   "metadata": {},
   "outputs": [
    {
     "name": "stdout",
     "output_type": "stream",
     "text": [
      "similarity scores of word 'chair' with each context word' {'awarded': 0.3565337648193474, 'computer': 0.3353887714813817, 'science': 0.40236920563885914}\n"
     ]
    }
   ],
   "source": [
    "# Calculate similarity scores\n",
    "similarity_scores = {}\n",
    "for word, embed_vec in context_embeddings.items():\n",
    "    if target_embedding is not None and embed_vec is not None:\n",
    "        similarity_scores[word] = cosine_similarity(target_embedding, embed_vec)\n",
    "\n",
    "print(f\"similarity scores of word '{target_word}' with each context word'\", similarity_scores)"
   ]
  },
  {
   "cell_type": "code",
   "execution_count": 287,
   "metadata": {},
   "outputs": [],
   "source": [
    "# In order to compare the similarity score with other senses of the word 'chair', need to get them using wordsense knowledge bases or wikipedia entries."
   ]
  },
  {
   "cell_type": "code",
   "execution_count": null,
   "metadata": {},
   "outputs": [
    {
     "name": "stdout",
     "output_type": "stream",
     "text": [
      "Target Word: interest-n\n",
      "Context: [('that', 'DT'), ('stake', 'NN'), (',', ','), ('together', 'RB'), ('with', 'IN'), ('its', 'PRP$'), ('convertible', 'JJ'), ('preferred', 'JJ'), ('stock', 'NN'), ('holdings', 'NNS'), (',', ','), ('gives', 'VBZ'), ('faulding', 'VBG'), ('the', 'DT'), ('right', 'NN'), ('to', 'TO'), ('increase', 'VB'), ('its', 'PRP$'), ('interest', 'NN'), ('to', 'TO'), ('70', 'CD'), ('%', 'NN'), ('of', 'IN'), ('moleculon', 'NN'), (\"'s\", 'POS'), ('voting', 'NN'), ('stock', 'NN'), ('.', '.')]\n",
      "Sense Label(s): ('interest_5',)\n"
     ]
    }
   ],
   "source": [
    "from nltk.corpus import senseval\n",
    "\n",
    "# understanding Senseeval-2 dataset structure\n",
    "\n",
    "# instance for the word \"interest\"\n",
    "instances = senseval.instances(\"interest.pos\")\n",
    "example_instance = instances[9]\n",
    "\n",
    "# displaying structure of example instance\n",
    "print(\"Target Word:\", example_instance.word)\n",
    "print(\"Context:\", [(w, pos) for (w, pos) in example_instance.context])\n",
    "print(\"Sense Label(s):\", example_instance.senses)\n"
   ]
  },
  {
   "cell_type": "code",
   "execution_count": null,
   "metadata": {},
   "outputs": [],
   "source": [
    "# Evaluation results for Senseeval-2 dataset (TBD)"
   ]
  },
  {
   "cell_type": "markdown",
   "metadata": {},
   "source": [
    "#### Question 7) Comparison of similarity performance of Wikipedia2Vec, word2vec, GloVe and FastText based on benchmark datasets (MC, RG and WS353)"
   ]
  },
  {
   "cell_type": "code",
   "execution_count": null,
   "metadata": {},
   "outputs": [],
   "source": [
    "pip install pandas scipy gensim seaborn matplotlib\n"
   ]
  },
  {
   "cell_type": "code",
   "execution_count": null,
   "metadata": {},
   "outputs": [
    {
     "name": "stdout",
     "output_type": "stream",
     "text": [
      "MC Dataset:\n",
      "         word1   word2  score\n",
      "0  automobile     car   3.92\n",
      "1         gem   jewel   3.84\n",
      "2     journey  voyage   3.84\n",
      "3         boy     lad   3.76\n",
      "4       coast   shore   3.70\n",
      "\n",
      "RG Dataset:\n",
      "        word1    word2  score\n",
      "0       cord    smile   0.02\n",
      "1    rooster   voyage   0.04\n",
      "2       noon   string   0.04\n",
      "3      fruit  furnace   0.05\n",
      "4  autograph    shore   0.06\n",
      "\n",
      "WS353 Dataset:\n",
      "       word1     word2  score\n",
      "0      love       sex   6.77\n",
      "1     tiger       cat   7.35\n",
      "2     tiger     tiger  10.00\n",
      "3      book     paper   7.46\n",
      "4  computer  keyboard   7.62\n"
     ]
    }
   ],
   "source": [
    "import pandas as pd\n",
    "\n",
    "# load datasets\n",
    "mc_df = pd.read_csv('datasets/mc.csv', sep=';')\n",
    "rg_df = pd.read_csv('datasets/rg.csv', sep=';')\n",
    "ws353_df = pd.read_csv('datasets/wordsim.csv', sep=';')\n",
    "\n",
    "# display the dataset structures\n",
    "print(\"MC Dataset:\\n\", mc_df.head())\n",
    "print(\"\\nRG Dataset:\\n\", rg_df.head())\n",
    "print(\"\\nWS353 Dataset:\\n\", ws353_df.head())\n"
   ]
  },
  {
   "cell_type": "code",
   "execution_count": 299,
   "metadata": {},
   "outputs": [
    {
     "data": {
      "text/plain": [
       "{'corpora': ['semeval-2016-2017-task3-subtaskBC',\n",
       "  'semeval-2016-2017-task3-subtaskA-unannotated',\n",
       "  'patent-2017',\n",
       "  'quora-duplicate-questions',\n",
       "  'wiki-english-20171001',\n",
       "  'text8',\n",
       "  'fake-news',\n",
       "  '20-newsgroups',\n",
       "  '__testing_matrix-synopsis',\n",
       "  '__testing_multipart-matrix-synopsis'],\n",
       " 'models': ['fasttext-wiki-news-subwords-300',\n",
       "  'conceptnet-numberbatch-17-06-300',\n",
       "  'word2vec-ruscorpora-300',\n",
       "  'word2vec-google-news-300',\n",
       "  'glove-wiki-gigaword-50',\n",
       "  'glove-wiki-gigaword-100',\n",
       "  'glove-wiki-gigaword-200',\n",
       "  'glove-wiki-gigaword-300',\n",
       "  'glove-twitter-25',\n",
       "  'glove-twitter-50',\n",
       "  'glove-twitter-100',\n",
       "  'glove-twitter-200',\n",
       "  '__testing_word2vec-matrix-synopsis']}"
      ]
     },
     "execution_count": 299,
     "metadata": {},
     "output_type": "execute_result"
    }
   ],
   "source": [
    "import gensim.downloader\n",
    "\n",
    "gensim.downloader.info(name_only=True)"
   ]
  },
  {
   "cell_type": "code",
   "execution_count": null,
   "metadata": {},
   "outputs": [
    {
     "name": "stdout",
     "output_type": "stream",
     "text": [
      "[==================================================] 100.0% 1662.8/1662.8MB downloaded\n"
     ]
    }
   ],
   "source": [
    "# download the required models pre-trained embedding files\n",
    "word2vec_model = gensim.downloader.load('word2vec-google-news-300')\n",
    "fasttext_model = gensim.downloader.load('fasttext-wiki-news-subwords-300')"
   ]
  },
  {
   "cell_type": "code",
   "execution_count": 297,
   "metadata": {},
   "outputs": [
    {
     "name": "stdout",
     "output_type": "stream",
     "text": [
      "[==================================================] 100.0% 376.1/376.1MB downloaded\n"
     ]
    }
   ],
   "source": [
    "glove_model = gensim.downloader.load('glove-wiki-gigaword-300')"
   ]
  },
  {
   "cell_type": "code",
   "execution_count": 300,
   "metadata": {},
   "outputs": [],
   "source": [
    "from scipy.spatial.distance import cosine\n",
    "\n",
    "# function to get Wikipedia2Vec vector embeddings for cosine similarity\n",
    "def get_wikipedia2vec_similarity_score(word1, word2, model):\n",
    "    try:\n",
    "        vec1 = model.get_word_vector(word1)\n",
    "        vec2 = model.get_word_vector(word2)\n",
    "        return 1 - cosine(vec1, vec2)\n",
    "    except KeyError:\n",
    "        return None\n",
    "\n",
    "# function to get other models(word2vec, glove, fassttext) vector embeddings for cosine similarity\n",
    "def get_other_model_similarity(word1, word2, embedding_model):\n",
    "    try:\n",
    "        vec1 = embedding_model[word1]\n",
    "        vec2 = embedding_model[word2]\n",
    "        return 1 - cosine(vec1, vec2)\n",
    "    except KeyError:\n",
    "        return 0\n"
   ]
  },
  {
   "cell_type": "code",
   "execution_count": null,
   "metadata": {},
   "outputs": [],
   "source": [
    "# function to calculate cosine similarities\n",
    "def calculate_similarities(df):\n",
    "    \n",
    "    # initialize lists to store the similarity scores\n",
    "    wikipedia2vec_scores = []\n",
    "    word2vec_scores = []\n",
    "    glove_scores = []\n",
    "    fasttext_scores = []\n",
    "    \n",
    "    # loop over each word pairs in a dataset to find cosine similarity of each of them\n",
    "    for _, row in df.iterrows():\n",
    "        word1 = row['word1']\n",
    "        word2 = row['word2']\n",
    "        \n",
    "        # using Wikipedia2Vec Embeddings\n",
    "        wiki_score = get_wikipedia2vec_similarity_score(word1.lower(), word2.lower(), wiki2vec)\n",
    "        wikipedia2vec_scores.append(wiki_score)\n",
    "        \n",
    "        # using word2vec Embeddings\n",
    "        w2v_score = get_other_model_similarity(word1, word2, word2vec_model)\n",
    "        word2vec_scores.append(w2v_score)\n",
    "\n",
    "        # using GloVe Embeddings\n",
    "        glove_score = get_other_model_similarity(word1, word2, glove_model)\n",
    "        glove_scores.append(glove_score)\n",
    "\n",
    "        # using FastText Embeddings\n",
    "        fasttext_score = get_other_model_similarity(word1, word2, fasttext_model)\n",
    "        fasttext_scores.append(fasttext_score)\n",
    "\n",
    "    # return the populated score values from each model\n",
    "    return wikipedia2vec_scores, word2vec_scores, glove_scores, fasttext_scores\n",
    "\n",
    "# calculate similarities for each dataset\n",
    "mc_results = calculate_similarities(mc_df)\n",
    "rg_results = calculate_similarities(rg_df)\n",
    "ws353_results = calculate_similarities(ws353_df)\n"
   ]
  },
  {
   "cell_type": "code",
   "execution_count": null,
   "metadata": {},
   "outputs": [],
   "source": [
    "#print the outputs\n",
    "#print(mc_results)\n",
    "#print(rg_results)\n",
    "#print(ws353_results)"
   ]
  },
  {
   "cell_type": "code",
   "execution_count": null,
   "metadata": {},
   "outputs": [],
   "source": [
    "# since the human judgement scores are in different scales need to normalize the calculated cosine similarity score scale (0 - 1) --> to relevant dataset human judgment scale for comparison with correlation\n",
    "# For MC and RG - score scale (0 - 4)\n",
    "# For WS353 - score scale (0-10)\n",
    "\n",
    "# normalize score based on min and max scores in each scale\n",
    "def normalize_scores(scores, new_min, new_max):\n",
    "    min_score = min(scores)\n",
    "    max_score = max(scores)\n",
    "    normalized_scores = [new_min + (score - min_score) * (new_max - new_min) / (max_score - min_score) for score in scores]\n",
    "    return normalized_scores\n",
    "\n",
    "# apply normalization to each dataset with the specific scales\n",
    "mc_results_normalized = tuple([normalize_scores(sim_list, 0, 4) for sim_list in mc_results])\n",
    "rg_results_normalized = tuple([normalize_scores(sim_list, 0, 4) for sim_list in rg_results])\n",
    "ws353_results_normalized = tuple([normalize_scores(sim_list, 0, 10) for sim_list in ws353_results])\n",
    "\n",
    "# output the results\n",
    "#print(\"MC Results Normalized:\", mc_results_normalized)\n",
    "#print(\"RG Results Normalized:\", rg_results_normalized)\n",
    "#print(\"WS353 Results Normalized:\", ws353_results_normalized)\n"
   ]
  },
  {
   "cell_type": "code",
   "execution_count": null,
   "metadata": {},
   "outputs": [],
   "source": [
    "from scipy.stats import pearsonr\n",
    "\n",
    "# correlation computation function\n",
    "def compute_correlation(human_scores, model_scores):\n",
    "    \n",
    "    filtered_scores = [(human, model) for human, model in zip(human_scores, model_scores)]\n",
    "    if len(filtered_scores) > 0:\n",
    "        human, model = zip(*filtered_scores)\n",
    "        return pearsonr(human, model)[0]\n",
    "    return None\n",
    "\n",
    "# compute correlations store as a dictionary output for each dataset and model\n",
    "corr_results = {}\n",
    "\n",
    "# define the dataset structure\n",
    "datasets = {'MC': mc_df, 'RG': rg_df, 'WS353': ws353_df}\n",
    "\n",
    "# loop through each dataset and calculate correlation scores\n",
    "for dataset_name, df in datasets.items():\n",
    "\n",
    "    # call normalize functions \n",
    "    if dataset_name == 'MC':\n",
    "        sim_scores = mc_results_normalized\n",
    "    elif dataset_name == 'RG':\n",
    "         sim_scores = rg_results_normalized\n",
    "    else:\n",
    "        sim_scores = ws353_results_normalized\n",
    "\n",
    "    # calculate pearson correlation values\n",
    "    corr_results[dataset_name] = {\n",
    "        'Wikipedia2Vec': compute_correlation(df['score'], sim_scores[0]),\n",
    "        'word2vec': compute_correlation(df['score'], sim_scores[1]),\n",
    "        'GloVe': compute_correlation(df['score'], sim_scores[2]),    \n",
    "        'FastText': compute_correlation(df['score'], sim_scores[3])\n",
    "    }\n",
    "\n",
    "#print(corr_results)"
   ]
  },
  {
   "cell_type": "code",
   "execution_count": null,
   "metadata": {},
   "outputs": [
    {
     "name": "stdout",
     "output_type": "stream",
     "text": [
      "       Wikipedia2Vec  word2vec     GloVe  FastText\n",
      "MC          0.807868  0.792852  0.740547  0.852745\n",
      "RG          0.755091  0.772062  0.751622  0.866292\n",
      "WS353       0.665123  0.652535  0.520931  0.698066\n"
     ]
    }
   ],
   "source": [
    "# convert to a DataFrame for tabulating the results\n",
    "corr_df = pd.DataFrame(corr_results).T\n",
    "\n",
    "# output\n",
    "print(corr_df)"
   ]
  },
  {
   "cell_type": "code",
   "execution_count": null,
   "metadata": {},
   "outputs": [
    {
     "data": {
      "image/png": "[encoded data removed]",
      "text/plain": [
       "<Figure size 1000x600 with 1 Axes>"
      ]
     },
     "metadata": {},
     "output_type": "display_data"
    }
   ],
   "source": [
    "import matplotlib.pyplot as plt\n",
    "import pandas as pd\n",
    "import numpy as np\n",
    "import seaborn as sns\n",
    "\n",
    "# set color palette using seaborn\n",
    "# sns.set_palette(\"mako\")\n",
    "sns.set_palette(\"ch:start=.1,rot=-.2\")\n",
    "\n",
    "# set configurations\n",
    "x = np.arange(len(corr_df.index))\n",
    "\n",
    "# initialize \n",
    "fig, ax = plt.subplots(figsize=(10, 6))\n",
    "\n",
    "# plot each model as a group of bars\n",
    "for i, (model,color) in enumerate(zip(corr_df.columns, sns.color_palette())):\n",
    "    ax.bar(x + i*0.2, corr_df[model], width=0.2, label=model, color=color)\n",
    "\n",
    "# plot details\n",
    "ax.set_xlabel('Datasets')\n",
    "ax.set_ylabel('Pearson Correlation Score')\n",
    "ax.set_title('Comparison of pearson correlation scores across vector embedding models and general datasets')\n",
    "ax.set_xticks(x + 0.2 * (len(corr_df.columns) - 1) / 2)\n",
    "ax.set_xticklabels(corr_df.index)\n",
    "ax.set_ylim(0, 1)\n",
    "ax.legend(title=\"Vector Embedding Models\")\n",
    "plt.show()"
   ]
  },
  {
   "cell_type": "markdown",
   "metadata": {},
   "source": [
    "8) Generating a new vector - A convex combination between Wikipedia2Vec vector and FastText vector. (TBD)"
   ]
  },
  {
   "cell_type": "code",
   "execution_count": null,
   "metadata": {},
   "outputs": [],
   "source": []
  }
 ],
 "metadata": {
  "kernelspec": {
   "display_name": "oulu_ac",
   "language": "python",
   "name": "python3"
  },
  "language_info": {
   "codemirror_mode": {
    "name": "ipython",
    "version": 3
   },
   "file_extension": ".py",
   "mimetype": "text/x-python",
   "name": "python",
   "nbconvert_exporter": "python",
   "pygments_lexer": "ipython3",
   "version": "3.9.19"
  }
 },
 "nbformat": 4,
 "nbformat_minor": 2
}
