{
 "cells": [
  {
   "cell_type": "markdown",
   "metadata": {},
   "source": [
    "### Wikipedia2Vec Installation and Familiarization"
   ]
  },
  {
   "cell_type": "code",
   "execution_count": 1,
   "metadata": {},
   "outputs": [
    {
     "name": "stdout",
     "output_type": "stream",
     "text": [
      "Collecting wikipedia2vec\n",
      "  Downloading wikipedia2vec-2.0.0-cp39-cp39-win_amd64.whl.metadata (8.2 kB)\n",
      "Requirement already satisfied: click in e:\\apps\\anaconda\\envs\\oulu_ac\\lib\\site-packages (from wikipedia2vec) (8.1.7)\n",
      "Collecting jieba (from wikipedia2vec)\n",
      "  Downloading jieba-0.42.1.tar.gz (19.2 MB)\n",
      "     ---------------------------------------- 0.0/19.2 MB ? eta -:--:--\n",
      "     ---------------------------------------- 0.0/19.2 MB ? eta -:--:--\n",
      "     ---------------------------------------- 0.0/19.2 MB ? eta -:--:--\n",
      "     ---------------------------------------- 0.0/19.2 MB ? eta -:--:--\n",
      "     ---------------------------------------- 0.0/19.2 MB ? eta -:--:--\n",
      "     ---------------------------------------- 0.0/19.2 MB ? eta -:--:--\n",
      "      --------------------------------------- 0.3/19.2 MB ? eta -:--:--\n",
      "      --------------------------------------- 0.3/19.2 MB ? eta -:--:--\n",
      "      --------------------------------------- 0.3/19.2 MB ? eta -:--:--\n",
      "     - ------------------------------------- 0.5/19.2 MB 390.1 kB/s eta 0:00:48\n",
      "     - ------------------------------------- 0.5/19.2 MB 390.1 kB/s eta 0:00:48\n",
      "     - ------------------------------------- 0.8/19.2 MB 466.0 kB/s eta 0:00:40\n",
      "     -- ------------------------------------ 1.0/19.2 MB 553.0 kB/s eta 0:00:33\n",
      "     --- ----------------------------------- 1.8/19.2 MB 940.7 kB/s eta 0:00:19\n",
      "     ---- ----------------------------------- 2.4/19.2 MB 1.1 MB/s eta 0:00:15\n",
      "     ------ --------------------------------- 2.9/19.2 MB 1.3 MB/s eta 0:00:13\n",
      "     ------- -------------------------------- 3.4/19.2 MB 1.4 MB/s eta 0:00:12\n",
      "     -------- ------------------------------- 3.9/19.2 MB 1.5 MB/s eta 0:00:11\n",
      "     --------- ------------------------------ 4.5/19.2 MB 1.6 MB/s eta 0:00:10\n",
      "     --------- ------------------------------ 4.7/19.2 MB 1.6 MB/s eta 0:00:10\n",
      "     ---------- ----------------------------- 5.2/19.2 MB 1.6 MB/s eta 0:00:09\n",
      "     ------------ --------------------------- 5.8/19.2 MB 1.7 MB/s eta 0:00:09\n",
      "     ------------- -------------------------- 6.6/19.2 MB 1.8 MB/s eta 0:00:08\n",
      "     -------------- ------------------------- 7.1/19.2 MB 1.8 MB/s eta 0:00:07\n",
      "     ---------------- ----------------------- 7.9/19.2 MB 1.9 MB/s eta 0:00:06\n",
      "     ----------------- ---------------------- 8.4/19.2 MB 2.0 MB/s eta 0:00:06\n",
      "     ------------------- -------------------- 9.2/19.2 MB 2.0 MB/s eta 0:00:05\n",
      "     -------------------- ------------------- 10.0/19.2 MB 2.1 MB/s eta 0:00:05\n",
      "     --------------------- ------------------ 10.5/19.2 MB 2.1 MB/s eta 0:00:05\n",
      "     --------------------- ------------------ 10.5/19.2 MB 2.1 MB/s eta 0:00:05\n",
      "     ---------------------- ----------------- 10.7/19.2 MB 2.0 MB/s eta 0:00:05\n",
      "     ----------------------- ---------------- 11.3/19.2 MB 2.0 MB/s eta 0:00:04\n",
      "     ------------------------- -------------- 12.1/19.2 MB 2.1 MB/s eta 0:00:04\n",
      "     -------------------------- ------------- 12.6/19.2 MB 2.1 MB/s eta 0:00:04\n",
      "     --------------------------- ------------ 13.4/19.2 MB 2.1 MB/s eta 0:00:03\n",
      "     ----------------------------- ---------- 14.2/19.2 MB 2.2 MB/s eta 0:00:03\n",
      "     ------------------------------ --------- 14.7/19.2 MB 2.2 MB/s eta 0:00:03\n",
      "     ------------------------------- -------- 15.2/19.2 MB 2.2 MB/s eta 0:00:02\n",
      "     -------------------------------- ------- 15.7/19.2 MB 2.2 MB/s eta 0:00:02\n",
      "     --------------------------------- ------ 16.3/19.2 MB 2.2 MB/s eta 0:00:02\n",
      "     ---------------------------------- ----- 16.8/19.2 MB 2.2 MB/s eta 0:00:02\n",
      "     ------------------------------------ --- 17.3/19.2 MB 2.2 MB/s eta 0:00:01\n",
      "     ------------------------------------- -- 17.8/19.2 MB 2.2 MB/s eta 0:00:01\n",
      "     ------------------------------------- -- 18.1/19.2 MB 2.2 MB/s eta 0:00:01\n",
      "     -------------------------------------- - 18.4/19.2 MB 2.2 MB/s eta 0:00:01\n",
      "     -------------------------------------- - 18.6/19.2 MB 2.2 MB/s eta 0:00:01\n",
      "     ---------------------------------------- 19.2/19.2 MB 2.2 MB/s eta 0:00:00\n",
      "  Preparing metadata (setup.py): started\n",
      "  Preparing metadata (setup.py): finished with status 'done'\n",
      "Requirement already satisfied: joblib in e:\\apps\\anaconda\\envs\\oulu_ac\\lib\\site-packages (from wikipedia2vec) (1.4.2)\n",
      "Collecting lmdb (from wikipedia2vec)\n",
      "  Downloading lmdb-1.5.1-cp39-cp39-win_amd64.whl.metadata (1.1 kB)\n",
      "Collecting marisa-trie (from wikipedia2vec)\n",
      "  Downloading marisa_trie-1.2.1-cp39-cp39-win_amd64.whl.metadata (9.3 kB)\n",
      "Collecting mwparserfromhell (from wikipedia2vec)\n",
      "  Downloading mwparserfromhell-0.6.6-cp39-cp39-win_amd64.whl.metadata (9.6 kB)\n",
      "Requirement already satisfied: numpy in e:\\apps\\anaconda\\envs\\oulu_ac\\lib\\site-packages (from wikipedia2vec) (1.24.3)\n",
      "Requirement already satisfied: scipy in e:\\apps\\anaconda\\envs\\oulu_ac\\lib\\site-packages (from wikipedia2vec) (1.13.1)\n",
      "Requirement already satisfied: tqdm in e:\\apps\\anaconda\\envs\\oulu_ac\\lib\\site-packages (from wikipedia2vec) (4.66.5)\n",
      "Requirement already satisfied: colorama in e:\\apps\\anaconda\\envs\\oulu_ac\\lib\\site-packages (from click->wikipedia2vec) (0.4.6)\n",
      "Requirement already satisfied: setuptools in e:\\apps\\anaconda\\envs\\oulu_ac\\lib\\site-packages (from marisa-trie->wikipedia2vec) (75.1.0)\n",
      "Downloading wikipedia2vec-2.0.0-cp39-cp39-win_amd64.whl (1.5 MB)\n",
      "   ---------------------------------------- 0.0/1.5 MB ? eta -:--:--\n",
      "   ------------- -------------------------- 0.5/1.5 MB 2.8 MB/s eta 0:00:01\n",
      "   --------------------------- ------------ 1.0/1.5 MB 2.8 MB/s eta 0:00:01\n",
      "   ---------------------------------------- 1.5/1.5 MB 2.6 MB/s eta 0:00:00\n",
      "Downloading lmdb-1.5.1-cp39-cp39-win_amd64.whl (105 kB)\n",
      "Downloading marisa_trie-1.2.1-cp39-cp39-win_amd64.whl (152 kB)\n",
      "Downloading mwparserfromhell-0.6.6-cp39-cp39-win_amd64.whl (103 kB)\n",
      "Building wheels for collected packages: jieba\n",
      "  Building wheel for jieba (setup.py): started\n",
      "  Building wheel for jieba (setup.py): finished with status 'done'\n",
      "  Created wheel for jieba: filename=jieba-0.42.1-py3-none-any.whl size=19314474 sha256=55b048cb6022c90274c109fe74b1f43ceedc6b42877acbc1320e30f374509a49\n",
      "  Stored in directory: c:\\users\\user\\appdata\\local\\pip\\cache\\wheels\\7d\\74\\cf\\08c94db4b784e2c1ef675a600b7b5b281fd25240dcb954ee7e\n",
      "Successfully built jieba\n",
      "Installing collected packages: lmdb, jieba, mwparserfromhell, marisa-trie, wikipedia2vec\n",
      "Successfully installed jieba-0.42.1 lmdb-1.5.1 marisa-trie-1.2.1 mwparserfromhell-0.6.6 wikipedia2vec-2.0.0\n",
      "Note: you may need to restart the kernel to use updated packages.\n"
     ]
    }
   ],
   "source": [
    "pip install wikipedia2vec"
   ]
  },
  {
   "cell_type": "code",
   "execution_count": 37,
   "metadata": {},
   "outputs": [],
   "source": [
    "from wikipedia2vec import Wikipedia2Vec"
   ]
  },
  {
   "cell_type": "code",
   "execution_count": null,
   "metadata": {},
   "outputs": [],
   "source": [
    "# link for the pre-trained embeddings: http://wikipedia2vec.s3.amazonaws.com/models/en/2018-04-20/enwiki_20180420_100d.txt.bz2"
   ]
  },
  {
   "cell_type": "code",
   "execution_count": null,
   "metadata": {},
   "outputs": [
    {
     "name": "stdout",
     "output_type": "stream",
     "text": [
      "Current working directory: d:\\Academic-Oulu\\Natural Language Processing and Text Mining 521158S-3005\\Group Projects\\Project28 - Wordsense Disambiguation\\wordsense-disambiguation-using-wikipedia\n"
     ]
    }
   ],
   "source": [
    "import os\n",
    "\n",
    "# check the current working directory\n",
    "current_directory = os.getcwd()\n",
    "print(f\"Current working directory: {current_directory}\")"
   ]
  },
  {
   "cell_type": "code",
   "execution_count": null,
   "metadata": {},
   "outputs": [
    {
     "name": "stdout",
     "output_type": "stream",
     "text": [
      "File downloaded successfully.\n"
     ]
    }
   ],
   "source": [
    "import requests\n",
    "\n",
    "# URL of the pretrained model - from wikipedia2vec site - https://wikipedia2vec.github.io/wikipedia2vec/pretrained/\n",
    "url = 'http://wikipedia2vec.s3.amazonaws.com/models/en/2018-04-20/enwiki_20180420_100d.pkl.bz2'\n",
    "\n",
    "# GET request to the URL\n",
    "response = requests.get(url)\n",
    "\n",
    "# saving the zipped content file\n",
    "with open('enwiki_20180420_100d.pkl.bz2', 'wb') as file:\n",
    "    file.write(response.content)\n",
    "\n",
    "print(\"File downloaded successfully.\")"
   ]
  },
  {
   "cell_type": "code",
   "execution_count": null,
   "metadata": {},
   "outputs": [
    {
     "name": "stderr",
     "output_type": "stream",
     "text": [
      "e:\\Apps\\Anaconda\\envs\\oulu_ac\\lib\\site-packages\\joblib\\numpy_pickle.py:230: UserWarning: The memmapped array [[-0.12560804 -0.5235532  -0.13231167 ... -0.48633438  0.45111445\n",
      "   0.11309847]\n",
      " [-0.12473089 -0.6455471   0.13622157 ... -0.6347396   0.5410465\n",
      "   0.32159257]\n",
      " [-0.05129661 -0.4987064  -0.09563554 ... -0.30148467  0.24280211\n",
      "  -0.08308805]\n",
      " ...\n",
      " [-1.0583687  -0.83086014 -0.4427682  ... -1.0160557  -0.02469787\n",
      "   0.99688977]\n",
      " [-1.0772408  -0.32139003 -0.79673034 ... -1.3150353  -0.12155519\n",
      "   0.57841384]\n",
      " [-0.86319923 -0.5425662  -0.5506818  ... -1.1069874   0.26995388\n",
      "   0.43403685]] loaded from the file enwiki_20180420_100d.pkl is not byte aligned. This may cause segmentation faults if this memmapped array is used in some libraries like BLAS or PyTorch. To get rid of this warning, regenerate your pickle file with joblib >= 1.2.0. See https://github.com/joblib/joblib/issues/563 for more details\n",
      "  warnings.warn(message)\n",
      "e:\\Apps\\Anaconda\\envs\\oulu_ac\\lib\\site-packages\\joblib\\numpy_pickle.py:230: UserWarning: The memmapped array [[ 9.31275263e-02 -8.88679624e-02 -1.91727564e-01 ... -1.34685934e-01\n",
      "  -1.15518689e-01  1.95024401e-01]\n",
      " [ 1.06650688e-01 -1.39282122e-01  1.28345221e-01 ... -2.58541018e-01\n",
      "   1.06945192e-03  4.36867744e-01]\n",
      " [ 2.41883561e-01 -3.22016366e-02 -1.21213362e-01 ...  2.10319590e-02\n",
      "  -3.88098627e-01 -7.62230903e-02]\n",
      " ...\n",
      " [-6.40646815e-01  2.35682666e-01  2.19560400e-01 ...  1.07549876e-01\n",
      "  -1.31226122e+00  1.51679659e+00]\n",
      " [-2.97203183e-01  2.59723127e-01  2.77167350e-01 ... -1.70121565e-01\n",
      "  -1.67249894e+00  1.12165082e+00]\n",
      " [-6.73093140e-01  2.12552413e-01  4.16892409e-01 ...  2.12317891e-02\n",
      "  -1.37761509e+00  6.29351258e-01]] loaded from the file enwiki_20180420_100d.pkl is not byte aligned. This may cause segmentation faults if this memmapped array is used in some libraries like BLAS or PyTorch. To get rid of this warning, regenerate your pickle file with joblib >= 1.2.0. See https://github.com/joblib/joblib/issues/563 for more details\n",
      "  warnings.warn(message)\n",
      "e:\\Apps\\Anaconda\\envs\\oulu_ac\\lib\\site-packages\\joblib\\numpy_pickle.py:230: UserWarning: The memmapped array [[769702 380730]\n",
      " [649936 302186]\n",
      " [869658 382059]\n",
      " ...\n",
      " [     0      0]\n",
      " [     0      0]\n",
      " [     0      0]] loaded from the file enwiki_20180420_100d.pkl is not byte aligned. This may cause segmentation faults if this memmapped array is used in some libraries like BLAS or PyTorch. To get rid of this warning, regenerate your pickle file with joblib >= 1.2.0. See https://github.com/joblib/joblib/issues/563 for more details\n",
      "  warnings.warn(message)\n",
      "e:\\Apps\\Anaconda\\envs\\oulu_ac\\lib\\site-packages\\joblib\\numpy_pickle.py:230: UserWarning: The memmapped array [[262 221]\n",
      " [132 108]\n",
      " [124 104]\n",
      " ...\n",
      " [  0   0]\n",
      " [  0   0]\n",
      " [  0   0]] loaded from the file enwiki_20180420_100d.pkl is not byte aligned. This may cause segmentation faults if this memmapped array is used in some libraries like BLAS or PyTorch. To get rid of this warning, regenerate your pickle file with joblib >= 1.2.0. See https://github.com/joblib/joblib/issues/563 for more details\n",
      "  warnings.warn(message)\n"
     ]
    }
   ],
   "source": [
    "# load pre-trained embeddings - en\n",
    "wiki2vec = Wikipedia2Vec.load('enwiki_20180420_100d.pkl')"
   ]
  },
  {
   "cell_type": "code",
   "execution_count": null,
   "metadata": {},
   "outputs": [],
   "source": [
    "# xxample: Get the embedding for the word \"chair\"\n",
    "word_embedding = wiki2vec.get_word('chair')\n",
    "\n",
    "# xxample: Get the embedding for an entity \"Chair (academic position)\"\n",
    "entity_embedding = wiki2vec.get_entity('Chair')"
   ]
  },
  {
   "cell_type": "code",
   "execution_count": 47,
   "metadata": {},
   "outputs": [
    {
     "name": "stdout",
     "output_type": "stream",
     "text": [
      "<Word chair>\n",
      "<Entity Chair>\n"
     ]
    }
   ],
   "source": [
    "print(word_embedding)\n",
    "print(entity_embedding)"
   ]
  },
  {
   "cell_type": "code",
   "execution_count": null,
   "metadata": {},
   "outputs": [
    {
     "name": "stdout",
     "output_type": "stream",
     "text": [
      "<Word awarded>\n",
      "<Word computer>\n",
      "<Word science>\n"
     ]
    }
   ],
   "source": [
    "# familiarizing with the Wikipedia2Vec functions available\n",
    "\n",
    "word_embedding1 = wiki2vec.get_word('awarded')\n",
    "word_embedding2 = wiki2vec.get_word('computer')\n",
    "word_embedding3 = wiki2vec.get_word('science')\n",
    "\n",
    "print(word_embedding1)\n",
    "print(word_embedding2)\n",
    "print(word_embedding3)"
   ]
  },
  {
   "cell_type": "code",
   "execution_count": 30,
   "metadata": {},
   "outputs": [],
   "source": [
    "word_vec_emb = wiki2vec.get_word_vector('chair')\n",
    "word_vec_emb1 = wiki2vec.get_word_vector('awarded')\n",
    "word_vec_emb2 = wiki2vec.get_word_vector('computer')\n",
    "word_vec_emb3 = wiki2vec.get_word_vector('science')"
   ]
  },
  {
   "cell_type": "code",
   "execution_count": 31,
   "metadata": {},
   "outputs": [
    {
     "name": "stdout",
     "output_type": "stream",
     "text": [
      "[ 0.04654245  0.14439246 -0.3415887   0.27441734 -0.18112557 -0.03795375\n",
      "  0.41517633  0.7292253  -0.39771724 -0.10643779 -0.17746638  0.03534226\n",
      "  0.3519571  -0.39227456  0.4437914   0.28520778  0.21078032 -0.0285807\n",
      " -0.13732119  0.09039967 -0.21388106  0.30269015 -0.1538185   0.2595978\n",
      "  0.3070228  -0.5604742   0.02200284 -1.024339    0.15059796  0.55303097\n",
      "  0.29648697 -0.21884337  0.05307893 -0.04003309  0.3089438   0.00756154\n",
      " -0.14986077 -0.10357599  0.13984683 -0.3127308  -0.69619644 -0.7018418\n",
      " -0.10873758  0.21771534  0.26533803 -0.15225261 -0.3634298   0.22682689\n",
      " -0.249345    0.11893645 -0.37935585  0.16829099 -0.20633978 -0.00218121\n",
      "  0.644493    0.07622882  0.56108636 -0.22788827 -0.14627694 -0.0163289\n",
      "  0.2660447   0.32026136 -0.11371405  0.3225434   0.9687589  -0.2978552\n",
      "  0.25901008 -0.10213111 -0.54261386 -0.2694366  -0.28734037  0.5236553\n",
      " -0.3275082   0.09385306 -0.62454486  0.39054513  0.14065978  0.14865363\n",
      " -0.21346687 -0.13000628  0.12686796 -0.07121572 -0.05432795 -0.18110347\n",
      "  0.14316753  0.77920216  0.20335723 -0.39817107  0.3501227   0.12704782\n",
      " -0.11629707  0.04447107 -0.04218614  0.21866381  0.37455228  0.49846953\n",
      "  0.03598502  0.5463812  -0.09096925 -0.02038433]\n",
      "[-3.04451674e-01  7.46837616e-01 -1.14735216e-01  2.84428239e-01\n",
      " -5.39107203e-01  2.49607399e-01  5.23104854e-02  5.60526788e-01\n",
      "  5.93054771e-01 -8.55666578e-01  1.00949910e-02 -3.42137039e-01\n",
      "  7.96297118e-02 -8.76598716e-01 -2.54226834e-01 -6.92380369e-02\n",
      " -1.62849456e-01 -2.57420808e-01  3.14647764e-01 -9.07441527e-02\n",
      " -2.25788623e-01  2.29919136e-01 -6.32200718e-01 -1.33828502e-02\n",
      " -3.65911186e-01 -2.19241053e-01  2.99979538e-01 -6.05422556e-01\n",
      "  7.36398816e-01  3.45417082e-01  6.20918572e-01  1.32344514e-01\n",
      " -3.36464852e-01  3.98098916e-01  2.02168509e-01 -1.54470935e-01\n",
      " -5.80375016e-01  7.79071227e-02  2.05933794e-01 -2.95301050e-01\n",
      " -3.17126691e-01  8.64429176e-02 -4.49895710e-01  5.41344821e-01\n",
      "  3.19439650e-01 -3.72307926e-01  2.98952550e-01  2.65643179e-01\n",
      " -5.94674349e-01  1.94471687e-01 -1.28534809e-01 -6.20424688e-01\n",
      "  5.57090282e-01  1.60285473e-01  4.97084767e-01 -2.01826468e-01\n",
      "  9.75496098e-02  1.64999619e-01 -7.42178857e-01 -3.87033284e-01\n",
      "  4.15819371e-03  6.15395069e-01  2.01986343e-01  3.79428850e-03\n",
      "  1.29539324e-02 -2.77421534e-01 -2.25902116e-03 -5.11127412e-01\n",
      "  3.23044449e-01 -5.97054362e-01 -3.01123440e-01  6.44082487e-01\n",
      " -1.60669144e-02  4.00521010e-01 -4.09458160e-01 -6.00620694e-02\n",
      "  5.24593711e-01  6.67348742e-01 -2.88030803e-01  3.16061705e-01\n",
      "  6.41163766e-01 -1.50767013e-01 -7.23874122e-02  2.13101014e-01\n",
      "  6.43752366e-02  6.95856586e-02  9.48413685e-02  2.30735660e-01\n",
      "  3.67484450e-01  5.07843912e-01 -7.09062964e-02  4.89259422e-01\n",
      "  2.99407005e-01 -5.06114622e-04  5.75745702e-02  1.78732634e-01\n",
      " -2.97439784e-01 -2.17476279e-01 -1.63256060e-02  4.90737915e-01]\n",
      "[-0.4219501   0.48001975 -0.3786316   0.31895646 -0.1503691   0.03688742\n",
      " -0.22160524 -0.0695703   0.38827068 -0.41994077  0.6081649  -0.10064418\n",
      "  0.13833201 -0.5436007   0.0059355  -0.9006285   0.00245833 -0.2840352\n",
      " -0.08264392 -0.33167526  0.04818654 -0.2595193  -0.05393529 -0.47040972\n",
      "  0.22731    -0.30062354  0.0582021  -0.36442655  0.12702027  0.7184965\n",
      "  0.7720435   0.09145754 -0.2315318   0.65259063  0.32143217 -0.23577733\n",
      " -0.02514153 -0.17649661  0.77898407  0.20055027  0.3228628  -0.3277424\n",
      " -0.48216778 -0.14449061  0.5381241  -0.46919882 -0.4139178   0.437868\n",
      " -0.48724726  0.17057551 -0.29546618  0.16688037 -0.8027231  -0.1108001\n",
      "  0.1574741   0.35414082 -0.0469584   0.65311235  0.04259122  0.20535654\n",
      "  0.14891654 -0.0969439  -0.69478774 -0.0246394   0.5391717   0.21893556\n",
      " -0.536302   -0.52659667 -0.08924998 -0.7247384   0.07008854  0.28905308\n",
      " -0.20547067  0.04596337  0.1469184  -0.13728094 -0.23282455  0.00140634\n",
      "  0.18966077 -0.3026898  -0.28437266 -0.46655032  0.3713945  -0.30166513\n",
      "  0.0196909   0.62877387  0.28192645 -0.25218132  0.53429765  0.15585072\n",
      "  0.01790087 -0.36284953 -0.30241784 -0.06529474  0.7984902   0.1902168\n",
      "  0.04453612  0.33354574 -0.406398   -0.3839783 ]\n",
      "[ 8.45629547e-04  3.98868769e-01 -1.96090057e-01  6.69105172e-01\n",
      "  9.12997425e-02 -1.40975386e-01 -1.49674386e-01  3.87414873e-01\n",
      "  8.88921246e-02  1.03057928e-01  6.76343679e-01 -9.01828259e-02\n",
      "  7.30674043e-02 -6.71655238e-01  4.48775023e-01 -3.75419170e-01\n",
      "  2.82850057e-01 -4.01427925e-01  2.02485338e-01 -3.40891898e-01\n",
      "  1.56838447e-01  2.29100659e-01 -2.56812125e-01  2.65109688e-01\n",
      "  5.05074143e-01 -4.08966124e-01  6.26393259e-01 -4.68345225e-01\n",
      "  5.25204539e-01  6.64077513e-03  5.19269943e-01  3.28502566e-01\n",
      " -1.03606366e-01  4.80513662e-01  9.54603925e-02 -1.66292474e-01\n",
      " -2.88815439e-01 -5.39973080e-01  7.14217484e-01  7.48397633e-02\n",
      " -1.17277406e-01  1.08860761e-01  1.85233378e-03  9.03436095e-02\n",
      "  6.18410885e-01 -1.02983423e-01 -1.95195362e-01  2.54191846e-01\n",
      " -4.45218861e-01  5.52958436e-02 -3.34284246e-01  1.34459697e-02\n",
      " -8.49110603e-01 -4.08982813e-01 -6.23480827e-02 -2.03552227e-02\n",
      "  4.57230240e-01  2.83359170e-01 -3.36388171e-01  5.35012841e-01\n",
      "  2.70753652e-01 -1.83300093e-01 -2.23680630e-01  1.94977924e-01\n",
      "  5.36803782e-01 -1.12127215e-01 -7.41179645e-01 -5.00710249e-01\n",
      " -6.68654516e-02 -1.03957033e+00 -1.43210143e-01 -1.12773776e-01\n",
      " -5.76299846e-01  7.06286907e-01 -5.68302162e-02 -3.13021541e-01\n",
      " -1.91599384e-01  2.59596944e-01 -2.34988317e-01 -2.99684554e-01\n",
      "  2.85089582e-01 -1.55553415e-01  2.44502708e-01 -1.54146582e-01\n",
      "  3.34409714e-01  4.80663031e-01  1.83474347e-01  3.65146309e-01\n",
      "  1.85923740e-01  3.65329117e-01  7.46239722e-02 -6.97591156e-02\n",
      " -4.37258810e-01 -4.23944503e-01  2.12825611e-01  3.83689642e-01\n",
      "  4.80972528e-01  1.72981754e-01 -2.93824971e-01 -1.76201478e-01]\n"
     ]
    }
   ],
   "source": [
    "print(word_vec_emb)\n",
    "print(word_vec_emb1)\n",
    "print(word_vec_emb2)\n",
    "print(word_vec_emb3)"
   ]
  },
  {
   "cell_type": "code",
   "execution_count": null,
   "metadata": {},
   "outputs": [
    {
     "data": {
      "text/plain": [
       "(100,)"
      ]
     },
     "execution_count": 28,
     "metadata": {},
     "output_type": "execute_result"
    }
   ],
   "source": [
    "# identify the shape of the vector from the pre-trained embedding model loaded\n",
    "wiki2vec.get_word_vector('awarded').shape"
   ]
  },
  {
   "cell_type": "code",
   "execution_count": 237,
   "metadata": {},
   "outputs": [
    {
     "data": {
      "text/plain": [
       "[ItemWithScore(item=<Word chair>, score=1.0000001192092896),\n",
       " ItemWithScore(item=<Word chairperson>, score=0.7606598138809204),\n",
       " ItemWithScore(item=<Word chairs>, score=0.756527304649353),\n",
       " ItemWithScore(item=<Word chaired>, score=0.7564043402671814),\n",
       " ItemWithScore(item=<Word chairing>, score=0.7534357309341431)]"
      ]
     },
     "execution_count": 237,
     "metadata": {},
     "output_type": "execute_result"
    }
   ],
   "source": [
    "# calculating the most similar vector embedding words to a given word\n",
    "wiki2vec.most_similar(wiki2vec.get_word('chair'), 5)"
   ]
  },
  {
   "cell_type": "code",
   "execution_count": null,
   "metadata": {},
   "outputs": [
    {
     "data": {
      "text/plain": [
       "[ItemWithScore(item=<Entity Chair>, score=0.9999998807907104),\n",
       " ItemWithScore(item=<Entity Crate>, score=0.6209840774536133),\n",
       " ItemWithScore(item=<Word ladderback>, score=0.6175653338432312),\n",
       " ItemWithScore(item=<Entity Armrest>, score=0.6162238121032715),\n",
       " ItemWithScore(item=<Word chairs>, score=0.6137146353721619)]"
      ]
     },
     "execution_count": 55,
     "metadata": {},
     "output_type": "execute_result"
    }
   ],
   "source": [
    "# calculating the most similar vector embedding entity to a given word\n",
    "wiki2vec.most_similar(wiki2vec.get_entity('Chair'), 5)"
   ]
  },
  {
   "cell_type": "code",
   "execution_count": null,
   "metadata": {},
   "outputs": [
    {
     "name": "stdout",
     "output_type": "stream",
     "text": [
      "Similarity with 'chair': 0.3565337648193474\n",
      "Similarity with 'chair': 0.3353887714813817\n",
      "Similarity with 'chair': 0.40236920563885914\n"
     ]
    }
   ],
   "source": [
    "import numpy as np\n",
    "from scipy.spatial.distance import cosine\n",
    "\n",
    "# function for cosine similarity calculation\n",
    "def cosine_similarity(vec1, vec2):\n",
    "        return 1 - cosine(vec1,vec2)\n",
    "\n",
    "# get context word embeddings\n",
    "context_embeddings = [wiki2vec.get_word_vector(word) for word in [\"awarded\", \"computer\", \"science\"]]\n",
    "\n",
    "# calculate similarity between each context word and the target word\n",
    "for context in context_embeddings:\n",
    "    similarity_score = cosine_similarity(word_vec_emb, context)\n",
    "    print(\"Similarity with 'chair':\", similarity_score)\n"
   ]
  },
  {
   "cell_type": "markdown",
   "metadata": {},
   "source": [
    "#### Project 28: Wordsense Disambiguation Using Wikipedia\n",
    "- Question 6) Instead of the Wikisim Framework (which is outdated and difficult to implement with running the servers and populating the graph databases), using Wikipedia2Vec framework."
   ]
  },
  {
   "cell_type": "markdown",
   "metadata": {},
   "source": [
    "#### Import libraries required for WSD\n"
   ]
  },
  {
   "cell_type": "code",
   "execution_count": null,
   "metadata": {},
   "outputs": [],
   "source": [
    "#import libraries\n",
    "import nltk\n",
    "from nltk.wsd import lesk\n",
    "from nltk.corpus import wordnet as wn"
   ]
  },
  {
   "cell_type": "code",
   "execution_count": null,
   "metadata": {},
   "outputs": [
    {
     "name": "stdout",
     "output_type": "stream",
     "text": [
      "Collecting wikipedia2vec\n",
      "  Downloading wikipedia2vec-2.0.0-cp39-cp39-win_amd64.whl.metadata (8.2 kB)\n",
      "Requirement already satisfied: click in e:\\apps\\anaconda\\envs\\oulu_ac\\lib\\site-packages (from wikipedia2vec) (8.1.7)\n",
      "Collecting jieba (from wikipedia2vec)\n",
      "  Downloading jieba-0.42.1.tar.gz (19.2 MB)\n",
      "     ---------------------------------------- 0.0/19.2 MB ? eta -:--:--\n",
      "     ---------------------------------------- 0.0/19.2 MB ? eta -:--:--\n",
      "     ---------------------------------------- 0.0/19.2 MB ? eta -:--:--\n",
      "     ---------------------------------------- 0.0/19.2 MB ? eta -:--:--\n",
      "     ---------------------------------------- 0.0/19.2 MB ? eta -:--:--\n",
      "     ---------------------------------------- 0.0/19.2 MB ? eta -:--:--\n",
      "      --------------------------------------- 0.3/19.2 MB ? eta -:--:--\n",
      "      --------------------------------------- 0.3/19.2 MB ? eta -:--:--\n",
      "      --------------------------------------- 0.3/19.2 MB ? eta -:--:--\n",
      "     - ------------------------------------- 0.5/19.2 MB 390.1 kB/s eta 0:00:48\n",
      "     - ------------------------------------- 0.5/19.2 MB 390.1 kB/s eta 0:00:48\n",
      "     - ------------------------------------- 0.8/19.2 MB 466.0 kB/s eta 0:00:40\n",
      "     -- ------------------------------------ 1.0/19.2 MB 553.0 kB/s eta 0:00:33\n",
      "     --- ----------------------------------- 1.8/19.2 MB 940.7 kB/s eta 0:00:19\n",
      "     ---- ----------------------------------- 2.4/19.2 MB 1.1 MB/s eta 0:00:15\n",
      "     ------ --------------------------------- 2.9/19.2 MB 1.3 MB/s eta 0:00:13\n",
      "     ------- -------------------------------- 3.4/19.2 MB 1.4 MB/s eta 0:00:12\n",
      "     -------- ------------------------------- 3.9/19.2 MB 1.5 MB/s eta 0:00:11\n",
      "     --------- ------------------------------ 4.5/19.2 MB 1.6 MB/s eta 0:00:10\n",
      "     --------- ------------------------------ 4.7/19.2 MB 1.6 MB/s eta 0:00:10\n",
      "     ---------- ----------------------------- 5.2/19.2 MB 1.6 MB/s eta 0:00:09\n",
      "     ------------ --------------------------- 5.8/19.2 MB 1.7 MB/s eta 0:00:09\n",
      "     ------------- -------------------------- 6.6/19.2 MB 1.8 MB/s eta 0:00:08\n",
      "     -------------- ------------------------- 7.1/19.2 MB 1.8 MB/s eta 0:00:07\n",
      "     ---------------- ----------------------- 7.9/19.2 MB 1.9 MB/s eta 0:00:06\n",
      "     ----------------- ---------------------- 8.4/19.2 MB 2.0 MB/s eta 0:00:06\n",
      "     ------------------- -------------------- 9.2/19.2 MB 2.0 MB/s eta 0:00:05\n",
      "     -------------------- ------------------- 10.0/19.2 MB 2.1 MB/s eta 0:00:05\n",
      "     --------------------- ------------------ 10.5/19.2 MB 2.1 MB/s eta 0:00:05\n",
      "     --------------------- ------------------ 10.5/19.2 MB 2.1 MB/s eta 0:00:05\n",
      "     ---------------------- ----------------- 10.7/19.2 MB 2.0 MB/s eta 0:00:05\n",
      "     ----------------------- ---------------- 11.3/19.2 MB 2.0 MB/s eta 0:00:04\n",
      "     ------------------------- -------------- 12.1/19.2 MB 2.1 MB/s eta 0:00:04\n",
      "     -------------------------- ------------- 12.6/19.2 MB 2.1 MB/s eta 0:00:04\n",
      "     --------------------------- ------------ 13.4/19.2 MB 2.1 MB/s eta 0:00:03\n",
      "     ----------------------------- ---------- 14.2/19.2 MB 2.2 MB/s eta 0:00:03\n",
      "     ------------------------------ --------- 14.7/19.2 MB 2.2 MB/s eta 0:00:03\n",
      "     ------------------------------- -------- 15.2/19.2 MB 2.2 MB/s eta 0:00:02\n",
      "     -------------------------------- ------- 15.7/19.2 MB 2.2 MB/s eta 0:00:02\n",
      "     --------------------------------- ------ 16.3/19.2 MB 2.2 MB/s eta 0:00:02\n",
      "     ---------------------------------- ----- 16.8/19.2 MB 2.2 MB/s eta 0:00:02\n",
      "     ------------------------------------ --- 17.3/19.2 MB 2.2 MB/s eta 0:00:01\n",
      "     ------------------------------------- -- 17.8/19.2 MB 2.2 MB/s eta 0:00:01\n",
      "     ------------------------------------- -- 18.1/19.2 MB 2.2 MB/s eta 0:00:01\n",
      "     -------------------------------------- - 18.4/19.2 MB 2.2 MB/s eta 0:00:01\n",
      "     -------------------------------------- - 18.6/19.2 MB 2.2 MB/s eta 0:00:01\n",
      "     ---------------------------------------- 19.2/19.2 MB 2.2 MB/s eta 0:00:00\n",
      "  Preparing metadata (setup.py): started\n",
      "  Preparing metadata (setup.py): finished with status 'done'\n",
      "Requirement already satisfied: joblib in e:\\apps\\anaconda\\envs\\oulu_ac\\lib\\site-packages (from wikipedia2vec) (1.4.2)\n",
      "Collecting lmdb (from wikipedia2vec)\n",
      "  Downloading lmdb-1.5.1-cp39-cp39-win_amd64.whl.metadata (1.1 kB)\n",
      "Collecting marisa-trie (from wikipedia2vec)\n",
      "  Downloading marisa_trie-1.2.1-cp39-cp39-win_amd64.whl.metadata (9.3 kB)\n",
      "Collecting mwparserfromhell (from wikipedia2vec)\n",
      "  Downloading mwparserfromhell-0.6.6-cp39-cp39-win_amd64.whl.metadata (9.6 kB)\n",
      "Requirement already satisfied: numpy in e:\\apps\\anaconda\\envs\\oulu_ac\\lib\\site-packages (from wikipedia2vec) (1.24.3)\n",
      "Requirement already satisfied: scipy in e:\\apps\\anaconda\\envs\\oulu_ac\\lib\\site-packages (from wikipedia2vec) (1.13.1)\n",
      "Requirement already satisfied: tqdm in e:\\apps\\anaconda\\envs\\oulu_ac\\lib\\site-packages (from wikipedia2vec) (4.66.5)\n",
      "Requirement already satisfied: colorama in e:\\apps\\anaconda\\envs\\oulu_ac\\lib\\site-packages (from click->wikipedia2vec) (0.4.6)\n",
      "Requirement already satisfied: setuptools in e:\\apps\\anaconda\\envs\\oulu_ac\\lib\\site-packages (from marisa-trie->wikipedia2vec) (75.1.0)\n",
      "Downloading wikipedia2vec-2.0.0-cp39-cp39-win_amd64.whl (1.5 MB)\n",
      "   ---------------------------------------- 0.0/1.5 MB ? eta -:--:--\n",
      "   ------------- -------------------------- 0.5/1.5 MB 2.8 MB/s eta 0:00:01\n",
      "   --------------------------- ------------ 1.0/1.5 MB 2.8 MB/s eta 0:00:01\n",
      "   ---------------------------------------- 1.5/1.5 MB 2.6 MB/s eta 0:00:00\n",
      "Downloading lmdb-1.5.1-cp39-cp39-win_amd64.whl (105 kB)\n",
      "Downloading marisa_trie-1.2.1-cp39-cp39-win_amd64.whl (152 kB)\n",
      "Downloading mwparserfromhell-0.6.6-cp39-cp39-win_amd64.whl (103 kB)\n",
      "Building wheels for collected packages: jieba\n",
      "  Building wheel for jieba (setup.py): started\n",
      "  Building wheel for jieba (setup.py): finished with status 'done'\n",
      "  Created wheel for jieba: filename=jieba-0.42.1-py3-none-any.whl size=19314474 sha256=55b048cb6022c90274c109fe74b1f43ceedc6b42877acbc1320e30f374509a49\n",
      "  Stored in directory: c:\\users\\user\\appdata\\local\\pip\\cache\\wheels\\7d\\74\\cf\\08c94db4b784e2c1ef675a600b7b5b281fd25240dcb954ee7e\n",
      "Successfully built jieba\n",
      "Installing collected packages: lmdb, jieba, mwparserfromhell, marisa-trie, wikipedia2vec\n",
      "Successfully installed jieba-0.42.1 lmdb-1.5.1 marisa-trie-1.2.1 mwparserfromhell-0.6.6 wikipedia2vec-2.0.0\n",
      "Note: you may need to restart the kernel to use updated packages.\n"
     ]
    }
   ],
   "source": [
    "#install Wikipedia2Vec framework\n",
    "pip install wikipedia2vec"
   ]
  },
  {
   "cell_type": "code",
   "execution_count": 63,
   "metadata": {},
   "outputs": [
    {
     "name": "stderr",
     "output_type": "stream",
     "text": [
      "[nltk_data] Downloading package wordnet to\n",
      "[nltk_data]     C:\\Users\\User\\AppData\\Roaming\\nltk_data...\n",
      "[nltk_data]   Package wordnet is already up-to-date!\n"
     ]
    },
    {
     "data": {
      "text/plain": [
       "True"
      ]
     },
     "execution_count": 63,
     "metadata": {},
     "output_type": "execute_result"
    }
   ],
   "source": [
    "# download required knowledge bases for comparison\n",
    "nltk.download('wordnet')"
   ]
  },
  {
   "cell_type": "code",
   "execution_count": 62,
   "metadata": {},
   "outputs": [
    {
     "name": "stderr",
     "output_type": "stream",
     "text": [
      "[nltk_data] Downloading package senseval to\n",
      "[nltk_data]     C:\\Users\\User\\AppData\\Roaming\\nltk_data...\n",
      "[nltk_data]   Package senseval is already up-to-date!\n"
     ]
    },
    {
     "data": {
      "text/plain": [
       "True"
      ]
     },
     "execution_count": 62,
     "metadata": {},
     "output_type": "execute_result"
    }
   ],
   "source": [
    "# download senseval-2 dataset for evaluation\n",
    "nltk.download(\"senseval\")"
   ]
  },
  {
   "cell_type": "code",
   "execution_count": null,
   "metadata": {},
   "outputs": [
    {
     "name": "stdout",
     "output_type": "stream",
     "text": [
      "File downloaded successfully.\n"
     ]
    }
   ],
   "source": [
    "import requests\n",
    "\n",
    "# get the pre-trained embeddings from the URL : specs --> enwiki_20180420 (window=5, iteration=10, negative=15): 100d (bin) - each embedding has 100 dimension vector (100,)\n",
    "url = 'http://wikipedia2vec.s3.amazonaws.com/models/en/2018-04-20/enwiki_20180420_100d.pkl.bz2'\n",
    "\n",
    "# GET request to the URL\n",
    "response = requests.get(url)\n",
    "\n",
    "# save the wikipedia embedding content as a bz2 zip file \n",
    "with open('enwiki_20180420_100d.pkl.bz2', 'wb') as file:\n",
    "    file.write(response.content)\n",
    "\n",
    "print(\"File downloaded successfully.\")"
   ]
  },
  {
   "cell_type": "code",
   "execution_count": null,
   "metadata": {},
   "outputs": [
    {
     "name": "stderr",
     "output_type": "stream",
     "text": [
      "e:\\Apps\\Anaconda\\envs\\oulu_ac\\lib\\site-packages\\joblib\\numpy_pickle.py:230: UserWarning: The memmapped array [[-0.12560804 -0.5235532  -0.13231167 ... -0.48633438  0.45111445\n",
      "   0.11309847]\n",
      " [-0.12473089 -0.6455471   0.13622157 ... -0.6347396   0.5410465\n",
      "   0.32159257]\n",
      " [-0.05129661 -0.4987064  -0.09563554 ... -0.30148467  0.24280211\n",
      "  -0.08308805]\n",
      " ...\n",
      " [-1.0583687  -0.83086014 -0.4427682  ... -1.0160557  -0.02469787\n",
      "   0.99688977]\n",
      " [-1.0772408  -0.32139003 -0.79673034 ... -1.3150353  -0.12155519\n",
      "   0.57841384]\n",
      " [-0.86319923 -0.5425662  -0.5506818  ... -1.1069874   0.26995388\n",
      "   0.43403685]] loaded from the file enwiki_20180420_100d.pkl is not byte aligned. This may cause segmentation faults if this memmapped array is used in some libraries like BLAS or PyTorch. To get rid of this warning, regenerate your pickle file with joblib >= 1.2.0. See https://github.com/joblib/joblib/issues/563 for more details\n",
      "  warnings.warn(message)\n",
      "e:\\Apps\\Anaconda\\envs\\oulu_ac\\lib\\site-packages\\joblib\\numpy_pickle.py:230: UserWarning: The memmapped array [[ 9.31275263e-02 -8.88679624e-02 -1.91727564e-01 ... -1.34685934e-01\n",
      "  -1.15518689e-01  1.95024401e-01]\n",
      " [ 1.06650688e-01 -1.39282122e-01  1.28345221e-01 ... -2.58541018e-01\n",
      "   1.06945192e-03  4.36867744e-01]\n",
      " [ 2.41883561e-01 -3.22016366e-02 -1.21213362e-01 ...  2.10319590e-02\n",
      "  -3.88098627e-01 -7.62230903e-02]\n",
      " ...\n",
      " [-6.40646815e-01  2.35682666e-01  2.19560400e-01 ...  1.07549876e-01\n",
      "  -1.31226122e+00  1.51679659e+00]\n",
      " [-2.97203183e-01  2.59723127e-01  2.77167350e-01 ... -1.70121565e-01\n",
      "  -1.67249894e+00  1.12165082e+00]\n",
      " [-6.73093140e-01  2.12552413e-01  4.16892409e-01 ...  2.12317891e-02\n",
      "  -1.37761509e+00  6.29351258e-01]] loaded from the file enwiki_20180420_100d.pkl is not byte aligned. This may cause segmentation faults if this memmapped array is used in some libraries like BLAS or PyTorch. To get rid of this warning, regenerate your pickle file with joblib >= 1.2.0. See https://github.com/joblib/joblib/issues/563 for more details\n",
      "  warnings.warn(message)\n",
      "e:\\Apps\\Anaconda\\envs\\oulu_ac\\lib\\site-packages\\joblib\\numpy_pickle.py:230: UserWarning: The memmapped array [[769702 380730]\n",
      " [649936 302186]\n",
      " [869658 382059]\n",
      " ...\n",
      " [     0      0]\n",
      " [     0      0]\n",
      " [     0      0]] loaded from the file enwiki_20180420_100d.pkl is not byte aligned. This may cause segmentation faults if this memmapped array is used in some libraries like BLAS or PyTorch. To get rid of this warning, regenerate your pickle file with joblib >= 1.2.0. See https://github.com/joblib/joblib/issues/563 for more details\n",
      "  warnings.warn(message)\n",
      "e:\\Apps\\Anaconda\\envs\\oulu_ac\\lib\\site-packages\\joblib\\numpy_pickle.py:230: UserWarning: The memmapped array [[262 221]\n",
      " [132 108]\n",
      " [124 104]\n",
      " ...\n",
      " [  0   0]\n",
      " [  0   0]\n",
      " [  0   0]] loaded from the file enwiki_20180420_100d.pkl is not byte aligned. This may cause segmentation faults if this memmapped array is used in some libraries like BLAS or PyTorch. To get rid of this warning, regenerate your pickle file with joblib >= 1.2.0. See https://github.com/joblib/joblib/issues/563 for more details\n",
      "  warnings.warn(message)\n"
     ]
    }
   ],
   "source": [
    "# import the framework\n",
    "from wikipedia2vec import Wikipedia2Vec\n",
    "\n",
    "# extract the downloaded zip file manually and load the pre-trained embeddings file (extension type .pkl)\n",
    "wiki2vec = Wikipedia2Vec.load('enwiki_20180420_100d.pkl')"
   ]
  },
  {
   "cell_type": "code",
   "execution_count": null,
   "metadata": {},
   "outputs": [
    {
     "name": "stdout",
     "output_type": "stream",
     "text": [
      "Word 'look' embedding exist: <Word look>\n",
      "Word 'watch' embedding exist: <Word watch>\n"
     ]
    }
   ],
   "source": [
    "# task 1 : run simple similarity between word pairs\n",
    "\n",
    "# define example words\n",
    "word1 = \"look\"\n",
    "word2 = \"watch\"\n",
    "\n",
    "# function to check whether for a given word embedding exists otherwise return None\n",
    "def check_embedding_exist(word):\n",
    "    word_emb = wiki2vec.get_word(word)\n",
    "    if word_emb != None:\n",
    "        print(f\"Word '{word}' embedding exist: {word_emb}\")\n",
    "    else:\n",
    "        print(f\"Word '{word}' not found in Wikipedia2Vec embeddings, using lowercase words might solve the issue\")\n",
    "\n",
    "# check word embedding existence using loaded embedding database in wiki2vec\n",
    "check_embedding_exist(word1)\n",
    "check_embedding_exist(word2)"
   ]
  },
  {
   "cell_type": "code",
   "execution_count": null,
   "metadata": {},
   "outputs": [
    {
     "name": "stdout",
     "output_type": "stream",
     "text": [
      "similarity between 'look' and 'watch': 0.5782222618096504\n"
     ]
    }
   ],
   "source": [
    "# import cosine\n",
    "from scipy.spatial.distance import cosine\n",
    "\n",
    "# Function for cosine similarity calculation\n",
    "def cosine_similarity(vec1, vec2):\n",
    "    return 1 - cosine(vec1,vec2)\n",
    "\n",
    "# function to extract the embeddings for a given word if exists otherwise return None\n",
    "def get_embedding(word):\n",
    "    try:\n",
    "        return wiki2vec.get_word_vector(word)\n",
    "    except KeyError:\n",
    "        print(f\"'{word}' not found in Wikipedia2Vec embeddings\")\n",
    "        return None\n",
    "\n",
    "# get the embedding vectors of each for cosine similarity\n",
    "word1_vec_embedding = wiki2vec.get_word_vector(word1)\n",
    "word2_vec_embedding = wiki2vec.get_word_vector(word2)\n",
    "\n",
    "similarity_score = cosine_similarity(word1_vec_embedding, word2_vec_embedding)\n",
    "print(f\"similarity between '{word1}' and '{word2}':\", similarity_score)"
   ]
  },
  {
   "cell_type": "code",
   "execution_count": null,
   "metadata": {},
   "outputs": [],
   "source": [
    "# provided sentence S\n",
    "sentence = \"I was awarded a chair in computer science\"\n",
    "target_word = \"chair\""
   ]
  },
  {
   "cell_type": "code",
   "execution_count": 291,
   "metadata": {},
   "outputs": [
    {
     "name": "stdout",
     "output_type": "stream",
     "text": [
      "[('I', 'PRP'), ('was', 'VBD'), ('awarded', 'VBN'), ('a', 'DT'), ('chair', 'NN'), ('in', 'IN'), ('computer', 'NN'), ('science', 'NN')]\n"
     ]
    }
   ],
   "source": [
    "from nltk.tokenize import word_tokenize\n",
    "from nltk import pos_tag\n",
    "\n",
    "words = word_tokenize(sentence)\n",
    "\n",
    "# get pos tags associated to all words in the sentence\n",
    "pos_words = pos_tag(words)\n",
    "print(pos_words)"
   ]
  },
  {
   "cell_type": "code",
   "execution_count": 292,
   "metadata": {},
   "outputs": [
    {
     "name": "stdout",
     "output_type": "stream",
     "text": [
      "['awarded', 'computer', 'science']\n"
     ]
    }
   ],
   "source": [
    "from nltk.tokenize import word_tokenize\n",
    "from nltk import pos_tag\n",
    "\n",
    "def preProcess(sentence):\n",
    "    # tokenize and extract stop word list in English\n",
    "    Stopwords = list(set(nltk.corpus.stopwords.words('english')))\n",
    "    words = word_tokenize(sentence)\n",
    "\n",
    "    # get pos tags associated to all words in the sentence\n",
    "    pos_words = pos_tag(words)\n",
    "    \n",
    "    # filtering\n",
    "    words = [word.lower() for (word,pos) in pos_words if word.isalpha() and word not in Stopwords and pos not in ('PRP') and word != target_word] \n",
    "    return words\n",
    "\n",
    "context_words = preProcess(sentence.lower())\n",
    "print(context_words)"
   ]
  },
  {
   "cell_type": "code",
   "execution_count": null,
   "metadata": {},
   "outputs": [
    {
     "name": "stdout",
     "output_type": "stream",
     "text": [
      "Lesk selected sense: Synset('chair.v.01')\n",
      "Definition: act or preside as chair, as of an academic department in a university\n"
     ]
    }
   ],
   "source": [
    "from nltk.wsd import lesk\n",
    "\n",
    "# applying Lesk algorithm\n",
    "lesk_sense = lesk(sentence.split(), target_word)\n",
    "\n",
    "# display the synset name and definition for most overlapping sense\n",
    "print(\"Lesk selected sense:\", lesk_sense)\n",
    "print(\"Definition:\", lesk_sense.definition())"
   ]
  },
  {
   "cell_type": "code",
   "execution_count": null,
   "metadata": {},
   "outputs": [
    {
     "name": "stdout",
     "output_type": "stream",
     "text": [
      "Target embedding: [ 0.04654245  0.14439246 -0.3415887   0.27441734 -0.18112557 -0.03795375\n",
      "  0.41517633  0.7292253  -0.39771724 -0.10643779 -0.17746638  0.03534226\n",
      "  0.3519571  -0.39227456  0.4437914   0.28520778  0.21078032 -0.0285807\n",
      " -0.13732119  0.09039967 -0.21388106  0.30269015 -0.1538185   0.2595978\n",
      "  0.3070228  -0.5604742   0.02200284 -1.024339    0.15059796  0.55303097\n",
      "  0.29648697 -0.21884337  0.05307893 -0.04003309  0.3089438   0.00756154\n",
      " -0.14986077 -0.10357599  0.13984683 -0.3127308  -0.69619644 -0.7018418\n",
      " -0.10873758  0.21771534  0.26533803 -0.15225261 -0.3634298   0.22682689\n",
      " -0.249345    0.11893645 -0.37935585  0.16829099 -0.20633978 -0.00218121\n",
      "  0.644493    0.07622882  0.56108636 -0.22788827 -0.14627694 -0.0163289\n",
      "  0.2660447   0.32026136 -0.11371405  0.3225434   0.9687589  -0.2978552\n",
      "  0.25901008 -0.10213111 -0.54261386 -0.2694366  -0.28734037  0.5236553\n",
      " -0.3275082   0.09385306 -0.62454486  0.39054513  0.14065978  0.14865363\n",
      " -0.21346687 -0.13000628  0.12686796 -0.07121572 -0.05432795 -0.18110347\n",
      "  0.14316753  0.77920216  0.20335723 -0.39817107  0.3501227   0.12704782\n",
      " -0.11629707  0.04447107 -0.04218614  0.21866381  0.37455228  0.49846953\n",
      "  0.03598502  0.5463812  -0.09096925 -0.02038433]\n",
      "Context embeddings: {'awarded': memmap([-3.04451674e-01,  7.46837616e-01, -1.14735216e-01,\n",
      "         2.84428239e-01, -5.39107203e-01,  2.49607399e-01,\n",
      "         5.23104854e-02,  5.60526788e-01,  5.93054771e-01,\n",
      "        -8.55666578e-01,  1.00949910e-02, -3.42137039e-01,\n",
      "         7.96297118e-02, -8.76598716e-01, -2.54226834e-01,\n",
      "        -6.92380369e-02, -1.62849456e-01, -2.57420808e-01,\n",
      "         3.14647764e-01, -9.07441527e-02, -2.25788623e-01,\n",
      "         2.29919136e-01, -6.32200718e-01, -1.33828502e-02,\n",
      "        -3.65911186e-01, -2.19241053e-01,  2.99979538e-01,\n",
      "        -6.05422556e-01,  7.36398816e-01,  3.45417082e-01,\n",
      "         6.20918572e-01,  1.32344514e-01, -3.36464852e-01,\n",
      "         3.98098916e-01,  2.02168509e-01, -1.54470935e-01,\n",
      "        -5.80375016e-01,  7.79071227e-02,  2.05933794e-01,\n",
      "        -2.95301050e-01, -3.17126691e-01,  8.64429176e-02,\n",
      "        -4.49895710e-01,  5.41344821e-01,  3.19439650e-01,\n",
      "        -3.72307926e-01,  2.98952550e-01,  2.65643179e-01,\n",
      "        -5.94674349e-01,  1.94471687e-01, -1.28534809e-01,\n",
      "        -6.20424688e-01,  5.57090282e-01,  1.60285473e-01,\n",
      "         4.97084767e-01, -2.01826468e-01,  9.75496098e-02,\n",
      "         1.64999619e-01, -7.42178857e-01, -3.87033284e-01,\n",
      "         4.15819371e-03,  6.15395069e-01,  2.01986343e-01,\n",
      "         3.79428850e-03,  1.29539324e-02, -2.77421534e-01,\n",
      "        -2.25902116e-03, -5.11127412e-01,  3.23044449e-01,\n",
      "        -5.97054362e-01, -3.01123440e-01,  6.44082487e-01,\n",
      "        -1.60669144e-02,  4.00521010e-01, -4.09458160e-01,\n",
      "        -6.00620694e-02,  5.24593711e-01,  6.67348742e-01,\n",
      "        -2.88030803e-01,  3.16061705e-01,  6.41163766e-01,\n",
      "        -1.50767013e-01, -7.23874122e-02,  2.13101014e-01,\n",
      "         6.43752366e-02,  6.95856586e-02,  9.48413685e-02,\n",
      "         2.30735660e-01,  3.67484450e-01,  5.07843912e-01,\n",
      "        -7.09062964e-02,  4.89259422e-01,  2.99407005e-01,\n",
      "        -5.06114622e-04,  5.75745702e-02,  1.78732634e-01,\n",
      "        -2.97439784e-01, -2.17476279e-01, -1.63256060e-02,\n",
      "         4.90737915e-01], dtype=float32), 'computer': memmap([-0.4219501 ,  0.48001975, -0.3786316 ,  0.31895646, -0.1503691 ,\n",
      "         0.03688742, -0.22160524, -0.0695703 ,  0.38827068, -0.41994077,\n",
      "         0.6081649 , -0.10064418,  0.13833201, -0.5436007 ,  0.0059355 ,\n",
      "        -0.9006285 ,  0.00245833, -0.2840352 , -0.08264392, -0.33167526,\n",
      "         0.04818654, -0.2595193 , -0.05393529, -0.47040972,  0.22731   ,\n",
      "        -0.30062354,  0.0582021 , -0.36442655,  0.12702027,  0.7184965 ,\n",
      "         0.7720435 ,  0.09145754, -0.2315318 ,  0.65259063,  0.32143217,\n",
      "        -0.23577733, -0.02514153, -0.17649661,  0.77898407,  0.20055027,\n",
      "         0.3228628 , -0.3277424 , -0.48216778, -0.14449061,  0.5381241 ,\n",
      "        -0.46919882, -0.4139178 ,  0.437868  , -0.48724726,  0.17057551,\n",
      "        -0.29546618,  0.16688037, -0.8027231 , -0.1108001 ,  0.1574741 ,\n",
      "         0.35414082, -0.0469584 ,  0.65311235,  0.04259122,  0.20535654,\n",
      "         0.14891654, -0.0969439 , -0.69478774, -0.0246394 ,  0.5391717 ,\n",
      "         0.21893556, -0.536302  , -0.52659667, -0.08924998, -0.7247384 ,\n",
      "         0.07008854,  0.28905308, -0.20547067,  0.04596337,  0.1469184 ,\n",
      "        -0.13728094, -0.23282455,  0.00140634,  0.18966077, -0.3026898 ,\n",
      "        -0.28437266, -0.46655032,  0.3713945 , -0.30166513,  0.0196909 ,\n",
      "         0.62877387,  0.28192645, -0.25218132,  0.53429765,  0.15585072,\n",
      "         0.01790087, -0.36284953, -0.30241784, -0.06529474,  0.7984902 ,\n",
      "         0.1902168 ,  0.04453612,  0.33354574, -0.406398  , -0.3839783 ],\n",
      "       dtype=float32), 'science': memmap([ 8.45629547e-04,  3.98868769e-01, -1.96090057e-01,\n",
      "         6.69105172e-01,  9.12997425e-02, -1.40975386e-01,\n",
      "        -1.49674386e-01,  3.87414873e-01,  8.88921246e-02,\n",
      "         1.03057928e-01,  6.76343679e-01, -9.01828259e-02,\n",
      "         7.30674043e-02, -6.71655238e-01,  4.48775023e-01,\n",
      "        -3.75419170e-01,  2.82850057e-01, -4.01427925e-01,\n",
      "         2.02485338e-01, -3.40891898e-01,  1.56838447e-01,\n",
      "         2.29100659e-01, -2.56812125e-01,  2.65109688e-01,\n",
      "         5.05074143e-01, -4.08966124e-01,  6.26393259e-01,\n",
      "        -4.68345225e-01,  5.25204539e-01,  6.64077513e-03,\n",
      "         5.19269943e-01,  3.28502566e-01, -1.03606366e-01,\n",
      "         4.80513662e-01,  9.54603925e-02, -1.66292474e-01,\n",
      "        -2.88815439e-01, -5.39973080e-01,  7.14217484e-01,\n",
      "         7.48397633e-02, -1.17277406e-01,  1.08860761e-01,\n",
      "         1.85233378e-03,  9.03436095e-02,  6.18410885e-01,\n",
      "        -1.02983423e-01, -1.95195362e-01,  2.54191846e-01,\n",
      "        -4.45218861e-01,  5.52958436e-02, -3.34284246e-01,\n",
      "         1.34459697e-02, -8.49110603e-01, -4.08982813e-01,\n",
      "        -6.23480827e-02, -2.03552227e-02,  4.57230240e-01,\n",
      "         2.83359170e-01, -3.36388171e-01,  5.35012841e-01,\n",
      "         2.70753652e-01, -1.83300093e-01, -2.23680630e-01,\n",
      "         1.94977924e-01,  5.36803782e-01, -1.12127215e-01,\n",
      "        -7.41179645e-01, -5.00710249e-01, -6.68654516e-02,\n",
      "        -1.03957033e+00, -1.43210143e-01, -1.12773776e-01,\n",
      "        -5.76299846e-01,  7.06286907e-01, -5.68302162e-02,\n",
      "        -3.13021541e-01, -1.91599384e-01,  2.59596944e-01,\n",
      "        -2.34988317e-01, -2.99684554e-01,  2.85089582e-01,\n",
      "        -1.55553415e-01,  2.44502708e-01, -1.54146582e-01,\n",
      "         3.34409714e-01,  4.80663031e-01,  1.83474347e-01,\n",
      "         3.65146309e-01,  1.85923740e-01,  3.65329117e-01,\n",
      "         7.46239722e-02, -6.97591156e-02, -4.37258810e-01,\n",
      "        -4.23944503e-01,  2.12825611e-01,  3.83689642e-01,\n",
      "         4.80972528e-01,  1.72981754e-01, -2.93824971e-01,\n",
      "        -1.76201478e-01], dtype=float32)}\n"
     ]
    }
   ],
   "source": [
    "# using wikipedia2Vec extract the embeddings for the target word and context words\n",
    "\n",
    "target_embedding = get_embedding(target_word)\n",
    "context_embeddings = {word: get_embedding(word) for word in context_words if get_embedding(word) is not None}\n",
    "\n",
    "print(\"Target embedding:\", target_embedding)\n",
    "print(\"Context embeddings:\", context_embeddings)"
   ]
  },
  {
   "cell_type": "code",
   "execution_count": 311,
   "metadata": {},
   "outputs": [
    {
     "name": "stdout",
     "output_type": "stream",
     "text": [
      "similarity scores of word 'chair' with each context word' {'awarded': 0.3565337648193474, 'computer': 0.3353887714813817, 'science': 0.40236920563885914}\n"
     ]
    }
   ],
   "source": [
    "# Calculate similarity scores\n",
    "similarity_scores = {}\n",
    "for word, embed_vec in context_embeddings.items():\n",
    "    if target_embedding is not None and embed_vec is not None:\n",
    "        similarity_scores[word] = cosine_similarity(target_embedding, embed_vec)\n",
    "\n",
    "print(f\"similarity scores of word '{target_word}' with each context word'\", similarity_scores)"
   ]
  },
  {
   "cell_type": "code",
   "execution_count": 287,
   "metadata": {},
   "outputs": [],
   "source": [
    "# In order to compare the similarity score with other senses of the word 'chair', need to get them using wordsense knowledge bases or wikipedia entries."
   ]
  },
  {
   "cell_type": "code",
   "execution_count": null,
   "metadata": {},
   "outputs": [
    {
     "name": "stdout",
     "output_type": "stream",
     "text": [
      "Target Word: interest-n\n",
      "Context: [('that', 'DT'), ('stake', 'NN'), (',', ','), ('together', 'RB'), ('with', 'IN'), ('its', 'PRP$'), ('convertible', 'JJ'), ('preferred', 'JJ'), ('stock', 'NN'), ('holdings', 'NNS'), (',', ','), ('gives', 'VBZ'), ('faulding', 'VBG'), ('the', 'DT'), ('right', 'NN'), ('to', 'TO'), ('increase', 'VB'), ('its', 'PRP$'), ('interest', 'NN'), ('to', 'TO'), ('70', 'CD'), ('%', 'NN'), ('of', 'IN'), ('moleculon', 'NN'), (\"'s\", 'POS'), ('voting', 'NN'), ('stock', 'NN'), ('.', '.')]\n",
      "Sense Label(s): ('interest_5',)\n"
     ]
    }
   ],
   "source": [
    "from nltk.corpus import senseval\n",
    "\n",
    "# understanding Senseeval-2 dataset structure\n",
    "\n",
    "# instance for the word \"interest\"\n",
    "instances = senseval.instances(\"interest.pos\")\n",
    "example_instance = instances[9]\n",
    "\n",
    "# displaying structure of example instance\n",
    "print(\"Target Word:\", example_instance.word)\n",
    "print(\"Context:\", [(w, pos) for (w, pos) in example_instance.context])\n",
    "print(\"Sense Label(s):\", example_instance.senses)\n"
   ]
  },
  {
   "cell_type": "code",
   "execution_count": null,
   "metadata": {},
   "outputs": [],
   "source": [
    "# Evaluation results for Senseeval-2 dataset (TBD)"
   ]
  },
  {
   "cell_type": "markdown",
   "metadata": {},
   "source": [
    "#### Question 7) Comparison of similarity performance of Wikipedia2Vec, word2vec, GloVe and FastText based on benchmark datasets (MC, RG and WS353)"
   ]
  },
  {
   "cell_type": "code",
   "execution_count": 286,
   "metadata": {},
   "outputs": [
    {
     "name": "stdout",
     "output_type": "stream",
     "text": [
      "Requirement already satisfied: pandas in e:\\apps\\anaconda\\envs\\oulu_ac\\lib\\site-packages (2.2.3)\n",
      "Requirement already satisfied: scipy in e:\\apps\\anaconda\\envs\\oulu_ac\\lib\\site-packages (1.13.1)\n",
      "Requirement already satisfied: gensim in e:\\apps\\anaconda\\envs\\oulu_ac\\lib\\site-packages (4.3.3)\n",
      "Requirement already satisfied: seaborn in e:\\apps\\anaconda\\envs\\oulu_ac\\lib\\site-packages (0.13.2)\n",
      "Requirement already satisfied: matplotlib in e:\\apps\\anaconda\\envs\\oulu_ac\\lib\\site-packages (3.9.2)\n",
      "Requirement already satisfied: numpy>=1.22.4 in e:\\apps\\anaconda\\envs\\oulu_ac\\lib\\site-packages (from pandas) (1.24.3)\n",
      "Requirement already satisfied: python-dateutil>=2.8.2 in e:\\apps\\anaconda\\envs\\oulu_ac\\lib\\site-packages (from pandas) (2.9.0)\n",
      "Requirement already satisfied: pytz>=2020.1 in e:\\apps\\anaconda\\envs\\oulu_ac\\lib\\site-packages (from pandas) (2024.2)\n",
      "Requirement already satisfied: tzdata>=2022.7 in e:\\apps\\anaconda\\envs\\oulu_ac\\lib\\site-packages (from pandas) (2024.2)\n",
      "Requirement already satisfied: smart-open>=1.8.1 in e:\\apps\\anaconda\\envs\\oulu_ac\\lib\\site-packages (from gensim) (7.0.5)\n",
      "Requirement already satisfied: contourpy>=1.0.1 in e:\\apps\\anaconda\\envs\\oulu_ac\\lib\\site-packages (from matplotlib) (1.3.0)\n",
      "Requirement already satisfied: cycler>=0.10 in e:\\apps\\anaconda\\envs\\oulu_ac\\lib\\site-packages (from matplotlib) (0.12.1)\n",
      "Requirement already satisfied: fonttools>=4.22.0 in e:\\apps\\anaconda\\envs\\oulu_ac\\lib\\site-packages (from matplotlib) (4.53.1)\n",
      "Requirement already satisfied: kiwisolver>=1.3.1 in e:\\apps\\anaconda\\envs\\oulu_ac\\lib\\site-packages (from matplotlib) (1.4.7)\n",
      "Requirement already satisfied: packaging>=20.0 in e:\\apps\\anaconda\\envs\\oulu_ac\\lib\\site-packages (from matplotlib) (24.1)\n",
      "Requirement already satisfied: pillow>=8 in e:\\apps\\anaconda\\envs\\oulu_ac\\lib\\site-packages (from matplotlib) (10.4.0)\n",
      "Requirement already satisfied: pyparsing>=2.3.1 in e:\\apps\\anaconda\\envs\\oulu_ac\\lib\\site-packages (from matplotlib) (3.1.4)\n",
      "Requirement already satisfied: importlib-resources>=3.2.0 in e:\\apps\\anaconda\\envs\\oulu_ac\\lib\\site-packages (from matplotlib) (6.4.5)\n",
      "Requirement already satisfied: zipp>=3.1.0 in e:\\apps\\anaconda\\envs\\oulu_ac\\lib\\site-packages (from importlib-resources>=3.2.0->matplotlib) (3.20.2)\n",
      "Requirement already satisfied: six>=1.5 in e:\\apps\\anaconda\\envs\\oulu_ac\\lib\\site-packages (from python-dateutil>=2.8.2->pandas) (1.16.0)\n",
      "Requirement already satisfied: wrapt in e:\\apps\\anaconda\\envs\\oulu_ac\\lib\\site-packages (from smart-open>=1.8.1->gensim) (1.16.0)\n",
      "Note: you may need to restart the kernel to use updated packages.\n"
     ]
    }
   ],
   "source": [
    "pip install pandas scipy gensim seaborn matplotlib\n"
   ]
  },
  {
   "cell_type": "code",
   "execution_count": null,
   "metadata": {},
   "outputs": [
    {
     "name": "stdout",
     "output_type": "stream",
     "text": [
      "MC Dataset:\n",
      "         word1   word2  score\n",
      "0  automobile     car   3.92\n",
      "1         gem   jewel   3.84\n",
      "2     journey  voyage   3.84\n",
      "3         boy     lad   3.76\n",
      "4       coast   shore   3.70\n",
      "\n",
      "RG Dataset:\n",
      "        word1    word2  score\n",
      "0       cord    smile   0.02\n",
      "1    rooster   voyage   0.04\n",
      "2       noon   string   0.04\n",
      "3      fruit  furnace   0.05\n",
      "4  autograph    shore   0.06\n",
      "\n",
      "WS353 Dataset:\n",
      "       word1     word2  score\n",
      "0      love       sex   6.77\n",
      "1     tiger       cat   7.35\n",
      "2     tiger     tiger  10.00\n",
      "3      book     paper   7.46\n",
      "4  computer  keyboard   7.62\n"
     ]
    }
   ],
   "source": [
    "import pandas as pd\n",
    "\n",
    "# load datasets\n",
    "mc_df = pd.read_csv('datasets/mc.csv', sep=';')\n",
    "rg_df = pd.read_csv('datasets/rg.csv', sep=';')\n",
    "ws353_df = pd.read_csv('datasets/wordsim.csv', sep=';')\n",
    "\n",
    "# display the dataset structures\n",
    "print(\"MC Dataset:\\n\", mc_df.head())\n",
    "print(\"\\nRG Dataset:\\n\", rg_df.head())\n",
    "print(\"\\nWS353 Dataset:\\n\", ws353_df.head())\n"
   ]
  },
  {
   "cell_type": "code",
   "execution_count": 299,
   "metadata": {},
   "outputs": [
    {
     "data": {
      "text/plain": [
       "{'corpora': ['semeval-2016-2017-task3-subtaskBC',\n",
       "  'semeval-2016-2017-task3-subtaskA-unannotated',\n",
       "  'patent-2017',\n",
       "  'quora-duplicate-questions',\n",
       "  'wiki-english-20171001',\n",
       "  'text8',\n",
       "  'fake-news',\n",
       "  '20-newsgroups',\n",
       "  '__testing_matrix-synopsis',\n",
       "  '__testing_multipart-matrix-synopsis'],\n",
       " 'models': ['fasttext-wiki-news-subwords-300',\n",
       "  'conceptnet-numberbatch-17-06-300',\n",
       "  'word2vec-ruscorpora-300',\n",
       "  'word2vec-google-news-300',\n",
       "  'glove-wiki-gigaword-50',\n",
       "  'glove-wiki-gigaword-100',\n",
       "  'glove-wiki-gigaword-200',\n",
       "  'glove-wiki-gigaword-300',\n",
       "  'glove-twitter-25',\n",
       "  'glove-twitter-50',\n",
       "  'glove-twitter-100',\n",
       "  'glove-twitter-200',\n",
       "  '__testing_word2vec-matrix-synopsis']}"
      ]
     },
     "execution_count": 299,
     "metadata": {},
     "output_type": "execute_result"
    }
   ],
   "source": [
    "import gensim.downloader\n",
    "\n",
    "gensim.downloader.info(name_only=True)"
   ]
  },
  {
   "cell_type": "code",
   "execution_count": null,
   "metadata": {},
   "outputs": [
    {
     "name": "stdout",
     "output_type": "stream",
     "text": [
      "[==================================================] 100.0% 1662.8/1662.8MB downloaded\n"
     ]
    }
   ],
   "source": [
    "# download the required models pre-trained embedding files\n",
    "word2vec_model = gensim.downloader.load('word2vec-google-news-300')\n",
    "fasttext_model = gensim.downloader.load('fasttext-wiki-news-subwords-300')"
   ]
  },
  {
   "cell_type": "code",
   "execution_count": 297,
   "metadata": {},
   "outputs": [
    {
     "name": "stdout",
     "output_type": "stream",
     "text": [
      "[==================================================] 100.0% 376.1/376.1MB downloaded\n"
     ]
    }
   ],
   "source": [
    "glove_model = gensim.downloader.load('glove-wiki-gigaword-300')"
   ]
  },
  {
   "cell_type": "code",
   "execution_count": 300,
   "metadata": {},
   "outputs": [],
   "source": [
    "from scipy.spatial.distance import cosine\n",
    "\n",
    "# function to get Wikipedia2Vec vector embeddings for cosine similarity\n",
    "def get_wikipedia2vec_similarity_score(word1, word2, model):\n",
    "    try:\n",
    "        vec1 = model.get_word_vector(word1)\n",
    "        vec2 = model.get_word_vector(word2)\n",
    "        return 1 - cosine(vec1, vec2)\n",
    "    except KeyError:\n",
    "        return None\n",
    "\n",
    "# function to get other models(word2vec, glove, fassttext) vector embeddings for cosine similarity\n",
    "def get_other_model_similarity(word1, word2, embedding_model):\n",
    "    try:\n",
    "        vec1 = embedding_model[word1]\n",
    "        vec2 = embedding_model[word2]\n",
    "        return 1 - cosine(vec1, vec2)\n",
    "    except KeyError:\n",
    "        return 0\n"
   ]
  },
  {
   "cell_type": "code",
   "execution_count": null,
   "metadata": {},
   "outputs": [],
   "source": [
    "# function to calculate cosine similarities\n",
    "def calculate_similarities(df):\n",
    "    \n",
    "    # initialize lists to store the similarity scores\n",
    "    wikipedia2vec_scores = []\n",
    "    word2vec_scores = []\n",
    "    glove_scores = []\n",
    "    fasttext_scores = []\n",
    "    \n",
    "    # loop over each word pairs in a dataset to find cosine similarity of each of them\n",
    "    for _, row in df.iterrows():\n",
    "        word1 = row['word1']\n",
    "        word2 = row['word2']\n",
    "        \n",
    "        # using Wikipedia2Vec Embeddings\n",
    "        wiki_score = get_wikipedia2vec_similarity_score(word1.lower(), word2.lower(), wiki2vec)\n",
    "        wikipedia2vec_scores.append(wiki_score)\n",
    "        \n",
    "        # using word2vec Embeddings\n",
    "        w2v_score = get_other_model_similarity(word1, word2, word2vec_model)\n",
    "        word2vec_scores.append(w2v_score)\n",
    "\n",
    "        # using GloVe Embeddings\n",
    "        glove_score = get_other_model_similarity(word1, word2, glove_model)\n",
    "        glove_scores.append(glove_score)\n",
    "\n",
    "        # using FastText Embeddings\n",
    "        fasttext_score = get_other_model_similarity(word1, word2, fasttext_model)\n",
    "        fasttext_scores.append(fasttext_score)\n",
    "\n",
    "    # return the populated score values from each model\n",
    "    return wikipedia2vec_scores, word2vec_scores, glove_scores, fasttext_scores\n",
    "\n",
    "# calculate similarities for each dataset\n",
    "mc_results = calculate_similarities(mc_df)\n",
    "rg_results = calculate_similarities(rg_df)\n",
    "ws353_results = calculate_similarities(ws353_df)\n"
   ]
  },
  {
   "cell_type": "code",
   "execution_count": 302,
   "metadata": {},
   "outputs": [
    {
     "name": "stdout",
     "output_type": "stream",
     "text": [
      "([0.7760606193283548, 0.723297203343476, 0.7516026922233725, 0.6702840374031828, 0.6789874469244244, 0.330637989639181, 0.577113925530502, 0.8155358933215568, 0.700709976530285, 0.6397967704482088, 0.4774660426096162, 0.5855320332048155, 0.6056056190038446, 0.4355592216984172, 0.4003060646572745, 0.20486525068659178, 0.32168650795925147, 0.27695525968685963, 0.4878437978843533, 0.3656545399307768, 0.40135317580483276, 0.32403776432360853, 0.4048252472205587, 0.28413498161818485, 0.39955553594910254, 0.3486066401506158, 0.4038715162267389, 0.3151569555273729, 0.2053563599820326, 0.2808688501712526], [0.5838367783185542, 0.6210810691168216, 0.683085252412491, 0.588615943026505, 0.508366736950597, 0.252539271922385, 0.48634965441334765, 0.5527406727621041, 0.6083911133435852, 0.374092620656828, 0.36290244109907666, 0.3028619127641292, 0.21234226715986315, 0.22320016973687973, 0.35959250748786964, 0.023186155585732005, 0.09849624635127874, 0.30354035809660607, 0.381925034989425, 0.11830647842205722, 0.16115775569170387, 0.22901122141502117, 0.11690947377105132, 0.19146228288987455, 0.23609788755524685, 0.33023008996210146, 0.01811644040136351, 0.037224910371683406, 0.0627580976293175, 0.021654514752938003], [0.5955728404509187, 0.4825545046514521, 0.6585056615239743, 0.30439935225740933, 0.5113321932974368, 0.013928536370832023, 0.4954693627868132, 0.6871417134685672, 0.5576939821363901, 0.4265904065486894, 0.24072741073279202, 0.29282242557397486, 0.2866805661885047, 0.31264480774143566, 0.14060157432586062, -0.010687380576499095, 0.18454399408680744, -0.04722561128052205, 0.3070249576891029, 0.03906492921481808, 0.16543270745749028, 0.11173495064552963, 0.1397007771854396, 0.08855257543749906, 0.2915761170331541, 0.20298474488260732, 0.07381451533735928, 0.059615936474387676, -0.03976676759390796, -0.007039046889181444], [0.7790265581570933, 0.7404147188390212, 0.768810359172456, 0.7353160426855031, 0.739042972342928, 0.5001663058414436, 0.6697250185250021, 0.7832095082548765, 0.6648432696668172, 0.5154927298905965, 0.5632354142513786, 0.5843252620926245, 0.4892131101457815, 0.4702420584032455, 0.4781369044753152, 0.20500631813530068, 0.4191537692938492, 0.37551683770013844, 0.48816835717923257, 0.33660047890477895, 0.49747160492549547, 0.4853239645748326, 0.4169062653231128, 0.29553173227148477, 0.4425738991932322, 0.3501958956767137, 0.1680742835987149, 0.33374417965973513, 0.17311199153220103, 0.12106895310834986])\n",
      "([0.4038715162267389, 0.2053563599820326, 0.2808688501712526, 0.3035868767848193, 0.09678615357290954, 0.2741779930203905, 0.39425907344977684, 0.24470614905000532, 0.07743803289845475, 0.38819124041248476, 0.2482331160173319, 0.3151569555273729, 0.538849382725776, 0.4266190989576346, 0.28413498161818485, 0.4141205143499064, 0.39955553594910254, 0.4219542582418516, 0.4048252472205587, 0.27695525968685963, 0.24509308117874073, 0.37922291627345583, 0.3639141437866441, 0.3486066401506158, 0.32403776432360853, 0.3656545399307768, 0.4878437978843533, 0.5021768953478812, 0.5066053650207643, 0.40135317580483276, 0.22673036721573658, 0.4486535253585495, 0.5556330865961165, 0.32168650795925147, 0.568109532293145, 0.47457141387744295, 0.3558983994717506, 0.20486525068659178, 0.4003060646572745, 0.2847414315349499, 0.4957408967847543, 0.5855320332048155, 0.4774660426096162, 0.6397967704482088, 0.4355592216984172, 0.330637989639181, 0.700709976530285, 0.577113925530502, 0.5393153247110972, 0.43891628917679704, 0.47678375482835544, 0.6281547343726539, 0.6216449031258099, 0.7516026922233725, 0.5240544023509544, 0.6789874469244244, 0.787574680894779, 0.6056056190038446, 0.6527852267297279, 0.6702840374031828, 0.4489031752025633, 0.6857979662021048, 0.7760606193283548, 0.8155358933215568, 0.723297203343476], [0.01811644040136351, 0.0627580976293175, 0.021654514752938003, 0.0732149747562375, 0.03465591830764059, -0.028087418960115906, 0.2452724750346107, -0.0002305379747238323, 0.057809625714826396, 0.13866825444969222, 0.2939681633911052, 0.037224910371683406, 0.2848519088441437, 0.12478441473277324, 0.19146228288987455, 0.09243521800769838, 0.23609788755524685, 0.24801887722189409, 0.11690947377105132, 0.30354035809660607, 0.16595691998747708, 0.13358584129019901, 0.1316413121996396, 0.33023008996210146, 0.22901122141502117, 0.11830647842205722, 0.381925034989425, 0.20434848177191256, 0.3402425389321051, 0.16115775569170387, 0.023429478860709452, 0.23607213420516193, 0.27359095310467496, 0.09849624635127874, 0.20604094018019536, 0.17449358766740852, 0.25220774070319685, 0.023186155585732005, 0.35959250748786964, 0.33811506908927447, 0.44257071224014766, 0.3028619127641292, 0.36290244109907666, 0.374092620656828, 0.22320016973687973, 0.252539271922385, 0.6083911133435852, 0.48634965441334765, 0.4622032311560843, 0.18951252877924596, 0.46751659820730596, 0.8604010271288086, 0.44984421533879204, 0.683085252412491, 0.313211165634542, 0.508366736950597, 0.6417990037467565, 0.21234226715986315, 0.4786788194250876, 0.588615943026505, 0.25161515762702247, 0.6424806453234864, 0.5838367783185542, 0.5527406727621041, 0.6210810691168216], [0.07381451533735928, -0.03976676759390796, -0.007039046889181444, 0.002724668599502267, -0.040832264547081776, -0.054664063662996476, 0.19234286087271824, -0.11834725470696283, -0.06584608946773862, 0.0596535565218832, 0.12823412734339157, 0.059615936474387676, 0.1380635389622069, 0.0010880566421797022, 0.08855257543749906, 0.011484607423660309, 0.2915761170331541, 0.20869501336136898, 0.1397007771854396, -0.04722561128052205, 0.09588535518252761, 0.08158535162065428, 0.0935564605624214, 0.20298474488260732, 0.11173495064552963, 0.03906492921481808, 0.3070249576891029, 0.24914253227198035, 0.2282959139819386, 0.16543270745749028, -0.02978051364271761, 0.10379004434558581, 0.3109542662378497, 0.18454399408680744, 0.3605647964112956, 0.23551043271819727, 0.0041802572684948025, -0.010687380576499095, 0.14060157432586062, 0.11293244003421976, 0.11529572920912423, 0.29282242557397486, 0.24072741073279202, 0.4265904065486894, 0.31264480774143566, 0.013928536370832023, 0.5576939821363901, 0.4954693627868132, 0.3483307523411835, 0.21361134277582539, 0.19636981957633504, 0.7982538212692389, 0.31468123274692783, 0.6585056615239743, 0.2679753881168607, 0.5113321932974368, 0.5828464285952503, 0.2866805661885047, 0.5338534455057546, 0.30439935225740933, 0.2697843848139734, 0.5611226104759859, 0.5955728404509187, 0.6871417134685672, 0.4825545046514521], [0.1680742835987149, 0.17311199153220103, 0.12106895310834986, 0.22038306209965386, 0.2010142072332033, 0.23177352056953582, 0.3288770362180312, 0.13388045666086745, 0.23018942733179182, 0.2869811142862333, 0.48469186213043036, 0.33374417965973513, 0.4566602068946165, 0.35569312645032436, 0.29553173227148477, 0.3351057145891998, 0.4425738991932322, 0.3450946571150224, 0.4169062653231128, 0.37551683770013844, 0.38641697570060063, 0.29818220799898065, 0.39736007685538177, 0.3501958956767137, 0.4853239645748326, 0.33660047890477895, 0.48816835717923257, 0.4091847420632816, 0.44995643895663195, 0.49747160492549547, 0.21323241173566798, 0.4402967655636225, 0.5003579542285624, 0.4191537692938492, 0.4395339693390279, 0.4464815385589268, 0.4523082062586765, 0.20500631813530068, 0.4781369044753152, 0.47851331336506875, 0.5792809844902712, 0.5843252620926245, 0.5632354142513786, 0.5154927298905965, 0.4702420584032455, 0.5001663058414436, 0.6648432696668172, 0.6697250185250021, 0.6018113626653504, 0.4915043827455501, 0.5838695681395351, 0.7925274046700707, 0.6039138401284537, 0.768810359172456, 0.5868959486894398, 0.739042972342928, 0.7445211611278838, 0.4892131101457815, 0.662556589229164, 0.7353160426855031, 0.5867961944125278, 0.7625916187923386, 0.7790265581570933, 0.7832095082548765, 0.7404147188390212])\n",
      "([0.45282097213144024, 0.5946949032134722, 1.0, 0.6225496799331159, 0.5196381057466328, 0.5936374468529526, 0.4832538370940882, 0.6428419216856955, 0.5507077399790073, 0.6871399440802132, 0.541083603499686, 0.637163177982629, 0.8623070405642045, 0.7439291302876628, 0.5973160277026202, 0.5963671469993826, 0.4875237791911381, 0.33404430410730246, 0.49285270695736605, 0.5937435729152042, 0.6625101929999129, 0.2655094319783351, 0.2600821245739635, 0.3405886453910255, 0.31843079859888923, 0.37484039286326964, 0.3167977384209062, 0.2922984333478018, 0.469129427450241, 0.4376097490082256, 0.5203118962522257, 0.7889024560706649, 0.26106121060909526, 0.28281258185097435, 0.7570446296913016, 0.29519505232111576, 0.48926465405939634, 0.7822062870231551, 0.6685915345057496, 0.1982626270145309, 0.400286541937083, 0.4926004540908968, 0.84628369190771, 0.7623409876977169, 0.6264753622680398, 0.4195406752961006, 0.48916647864342866, 0.41350863253359305, 0.3425352308747861, 0.5996341715060208, 0.5231253227677549, 0.5758643408234847, 0.3852211073634768, 0.5561169237543689, 0.47737776027446455, 0.8532189441850987, 0.31892139214331616, 0.4240522932168904, 0.6534257680776122, 0.753826612022679, 0.37780758877751786, 0.31688655804799104, 0.40400681584232156, 0.6661919622879207, 0.662338710194754, 0.3814991998743955, 0.7760606193283548, 0.723297203343476, 0.7516026922233725, 0.6702840374031828, 0.6789874469244244, 0.330637989639181, 0.577113925530502, 0.8155358933215568, 0.700709976530285, 0.6397967704482088, 0.4774660426096162, 0.5855320332048155, 0.6056056190038446, 0.4355592216984172, 0.20486525068659178, 0.4003060646572745, 0.32168650795925147, 0.27695525968685963, 0.4878437978843533, 0.3656545399307768, 0.40135317580483276, 0.32403776432360853, 0.4048252472205587, 0.28413498161818485, 0.39955553594910254, 0.3486066401506158, 0.33190143107954495, 0.3151569555273729, 0.2808688501712526, 0.2053563599820326, 0.6599447542829918, 0.7889024560706649, 0.5690949338396645, 0.6653637933451518, 0.5010509597782856, 0.41058990858898126, 0.4376097490082256, 0.5200590620983778, 0.2935885410770186, 0.666999202672827, 0.24675690108183446, 0.631811873403068, 0.4869261432282319, 0.5086730365885515, 0.400157056440819, 0.46817518118795465, 0.21799964143214656, 0.36262210621491275, 0.49929323472536447, 0.8206568988081648, 0.5361924096842581, 0.34136401471665323, 0.3722800104284103, 0.5035751376657305, 0.4709561280660539, 0.5759058758221068, 0.48920467094694575, 0.5563440740421167, 0.7016732010794057, 0.5242202697449927, 0.7665348126893706, 0.5898669893357199, 0.5769051611612673, 0.7095854946957516, 0.5746786107871928, 0.6431844647329243, 0.5556264614238744, 0.4134066130256251, 0.543931507312162, 0.32259993804039444, 0.2543250927997709, 0.5425985127733455, 0.3609716008162722, 0.2734507888118898, 0.5629873307558626, 0.31373443115519106, 0.3663877184738086, 0.18815042688750772, 0.18900014226076778, 0.1278550928911537, 0.22404536017928856, 0.318420149289416, 0.18216111654594314, 0.16032583914918497, 0.2364411350191684, 0.504871520014445, 0.5548201519036231, 0.3690274161927848, 0.5901924281040735, 0.4411629802529987, 0.5485675737683159, 0.48234519521279484, 0.5794908843856963, 0.7235770076263955, 0.4612252978237431, 0.3207584178236287, 0.3799089917305398, 0.6001601066695806, 0.3980006192367611, 0.42404942743586294, 0.3835088854063258, 0.7460067890234261, 0.3559745810727233, 0.4691599790733907, 0.7736097220191934, 0.3484424992712719, 0.28012599097498847, 0.45142915468724476, 0.4149799301457163, 0.5280508576362832, 0.4053080769080668, 0.7291228578143382, 0.5729952714881545, 0.3101578759724193, 0.3946986371490362, 0.4529130279456456, 0.6038293591735507, 0.3008168666857678, 0.27407998673303724, 0.32807809199267024, 0.3648057724536048, 0.5228733537724639, 0.4251422661954929, 0.34674640757307396, 0.3305690439173051, 0.46280608879271734, 0.4857025990163766, 0.6194391237021301, 0.3762221997806866, 0.560133713591681, 0.484447421191883, 0.3892383832000502, 0.31752893768950285, 0.37004278109561994, 0.6236691063539505, 0.5474141454766266, 0.26036392777539363, 0.19430880716502874, 0.730165380712432, 0.47029540580960527, 0.3136597754840347, 0.55392444753898, 0.48109468611724737, 0.8830198648730238, 0.36736025952535334, 0.3450790547318099, 0.4594803519233872, 0.3201538264019499, 0.5750427815430298, 0.41092331090380974, 0.4877589288792412, 0.4563183942717163, 0.2245046588616535, 0.30868852343257447, 0.31966832111560683, 0.2560014279167041, 0.35237085393909373, 0.3526351790044634, 0.31033693917381777, 0.33745771692661974, 0.5594527143066277, 0.24279805262297882, 0.3795927723994523, 0.6406761119559411, 0.4828757002234296, 0.4120411233941146, 0.4723523571150168, 0.2945513058669589, 0.35660106827337223, 0.31606539800945965, 0.5878142718343881, 0.3354780484160331, 0.6424511741715988, 0.6191838466535673, 0.582224208882381, 0.6029609362368693, 0.43765009704972746, 0.368349008494668, 0.3834249991529357, 0.8726304039399144, 0.494326591777844, 0.22335489342393466, 0.2709190797652571, 0.38699914751841236, 0.5431987705566679, 0.2160519676637619, 0.6493374423036702, 0.39826902157189903, 0.38765439110035516, 0.7492374195882562, 0.5393960313754392, 0.7575450809594774, 0.5493229646793542, 0.6145070768263029, 0.45024938514229174, 0.33807966165949765, 0.49584327996986255, 0.2020340267485662, 0.2860147940166201, 0.6507931564138543, 0.4282737352255145, 0.4056811790985906, 0.31567456277528216, 0.779881578066942, 0.44755123463280466, 0.3856022986947658, 0.40801949918671976, 0.5956951058538679, 0.4867388246312252, 0.21923793165950356, 0.31025966741726985, 0.6610116162325917, 0.4204667442183785, 0.5426057913469571, 0.6159569553872293, 0.6477163158032483, 0.5421953488952309, 0.49804026727948925, 0.5217943998919774, 0.48497525426242416, 0.7947729289142101, 0.7720876531666275, 0.5833001007088946, 0.4873662375126877, 0.5573646474910695, 0.5042280792622099, 0.5571092445507105, 0.49258985878503847, 0.4757572339414313, 0.3484829605247851, 0.792090893161064, 0.5128906692597874, 0.2230199556204755, 0.40759358727988226, 0.48266945548719553, 0.2618513030873364, 0.5622848371020305, 0.6140794266833868, 0.6774862752021366, 0.4387192219541527, 0.7687000192638549, 0.24461195537198432, 0.763174337049044, 0.6529438447819772, 0.4498070070372484, 0.5271942247928921, 0.5241707533276698, 0.3610250954603065, 0.6318403029982786, 0.5834813477145351, 0.29450498628654187, 0.24064235927090405, 0.3596387179527636, 0.5321790360506717, 0.47281807776789453, 0.677417052120927, 0.7145786083293956, 0.5732437111486112, 0.2414402618287782, 0.2919977317819151, 0.08774933628092207, 0.47701107316343516, 0.5635652271435784, 0.5189176879815345, 0.2850609190261285, 0.46243230340972863, 0.2642253241809569, 0.32620961175723107, 0.3896692034628886, 0.3462070197020607, 0.5589337956866105, 0.6505896580811424, 0.5589565164399476, 0.46064129754523875, 0.5951031201041214, 0.6055966694623673, 0.4575125349230482, 0.2604806475129994, 0.3385161208211268, 0.2691366857962997, 0.504577231650601, 0.5759368535844658, 0.36938385920283134, 0.7198255379874825, 0.3934338798294108, 0.4798930317460559, 0.38381738892795525], [0.2639377300157353, 0.5172961728249801, 1.0, 0.3634625972144194, 0.39639161141807033, 0.4068623244099431, 0.37796985392389537, 0.3402561064519375, 0.3321845466224631, 0.611497037119593, 0.3899161063754314, 0.24085768092209603, 0.6417260598909118, 0.5678562319737638, 0.6319523567864634, 0.2133608349791679, 0.4206618313186915, 0.06630216089264762, 0.4704719382848508, 0.34156866391487095, 0.4680555988705004, 0.12326756439571562, 0.066117908266911, 0.036066906364200735, 0.10417767176124282, 0.25652346383051927, 0.04447177344892328, 0.07456466603671075, 0.3245312205155949, 0.26132064823520684, 0.4175162925925895, 0.6151220619386235, 0.05661814074648386, 0.11813169583762106, 0.6510956839660246, 0.2087559283971584, 0.42778128157917217, 0.6638747576277583, 0.6342511779601002, 0.10070593450028897, 0.2233917515294359, 0.2888382636348592, 0.7313548265733318, 0.6682467583074296, 0.5051178805540988, 0.3920080254746853, 0.314986402300542, 0.32154806657250745, 0.24712518486974333, 0.3446576720715535, 0.26419907113250696, 0.44535527832750577, 0.1743032687708561, 0.47419046038820456, 0.3664059521118539, 0.4371983021355419, 0.08025176742483753, 0.08876197829735633, 0.5971748750798693, 0.6881492081513726, 0.24563539242607568, 0.09346937164114366, 0.1730400136219794, 0.507020010744535, 0.5839769921772173, 0.15679938730311727, 0.5838367783185542, 0.6210810691168216, 0.683085252412491, 0.588615943026505, 0.508366736950597, 0.252539271922385, 0.48634965441334765, 0.5527406727621041, 0.6083911133435852, 0.374092620656828, 0.36290244109907666, 0.3028619127641292, 0.21234226715986315, 0.22320016973687973, 0.023186155585732005, 0.35959250748786964, 0.09849624635127874, 0.30354035809660607, 0.381925034989425, 0.11830647842205722, 0.16115775569170387, 0.22901122141502117, 0.11690947377105132, 0.19146228288987455, 0.23609788755524685, 0.33023008996210146, 0.14869235412499981, 0.037224910371683406, 0.021654514752938003, 0.0627580976293175, 0.31356568554387065, 0.6151220619386235, 0.1601012169190258, 0.3295103800881374, 0.2682446087047816, 0.053182696506855476, 0.26132064823520684, 0.2604113769468568, 0.05602633482345021, 0.25236372949618735, 0.08456929383794842, 0.5528684405525363, 0.4267144595676764, 0.4289375290952524, 0.4964474893470471, 0.5096533003826962, 0.06294278232481865, 0.32975671972837284, 0.46924552989072255, 0.5556287704072139, 0.2719925019364837, 0.17129430309699045, 0.31355653014544294, 0.12102103284337573, 0.1906651951914311, 0.3330824817303637, 0.25049888130553954, 0.17619233761844222, 0.4808834814783559, 0.2597164182603724, 0.39951161436604976, 0.19317104081031, 0.3931295017388736, 0.5024792472118518, 0.3206744022475063, 0.6338510429171047, 0.2803674661146083, 0.3078755013162694, 0.37273748708118126, 0.08866602894732045, -0.0205696006663052, 0.3459701555989997, 0.03283146186948682, 0.07681482887724522, 0.2837713555695479, 0.3560177676431473, 0.1948634529774409, 0.08339212898758341, 0.033699157189817974, 0.10605283698564405, 0.03479221596031634, 0.3532216721341328, 0.09379564668031015, 0.125564170646408, 0.25183939090466567, 0.40548658344137767, 0.13319404750355557, 0.09282554383774166, 0.23210789487199446, 0.11277152897681908, 0.28754657040151854, 0.25843906062427335, 0.33789979125347236, 0.41713532730620906, 0.2348798874962461, 0.136371539721031, 0.17972103693394592, 0.31236358970379186, 0.24369584106791897, 0.12843585890847786, 0.041256408308563586, 0.3931343587590779, 0.04805115003094396, 0.26014825986473533, 0.7258478092605677, 0.10399809438272178, 0.13958474805863774, 0.2697125980402876, 0.06946568165705247, 0.4761477444618001, 0.22208689425375905, 0.33974785941371133, 0.4124884860820117, 0.1298281200109459, 0.1912766305271889, 0.11657064267568429, 0.3227156964298439, 0.33483711589522525, 0.2919147398989477, 0.023803044638081805, 0.12586816336268292, 0.17155186286853585, 0.1190072832480571, 0.06868558027215332, 0.06137870469862983, 0.29561758232007973, 0.2766171138161172, 0.40605051354553423, 0.13847878385004742, 0.46733314540511195, 0.23130609872549035, 0.23570408486782857, 0.275210989087983, 0.1758063600104175, 0.24930657028968628, 0.16295819122910782, 0.16101651727630117, 0.06116039790145367, 0.4524445461662858, 0.14268212525518353, 0.07555148830355751, 0.39233662495700483, 0.18021872291566, 0.7817695916514592, 0.14553326740930617, 0.15612479036345994, 0.27572772206760054, 0.19860792883884582, 0.3618776358053598, 0.2267606152812348, 0.09658685969716296, 0.3211810738599553, 0.11880447778656156, 0.11948940069732072, 0.13366278467311687, 0.0981877802347475, 0.15408424315825453, 0.12772587227048693, 0.17668062704103749, 0.191265403670967, 0.24616710958237487, 0.10208499295989637, 0.14423442753315907, 0.26815694787734756, 0.11662981165889719, 0.30282540707711436, 0.1270451958388008, 0.11914841564728973, 0.23056127771336576, 0.12591952153388297, 0.6666412862864644, 0.15935501097901106, 0.43194772477819177, 0.4177303338637788, 0.18474202792655803, 0.20984452308017698, 0.20375369724721237, 0.09585041680538264, 0.17753030774100376, 0.3832703695686981, 0.26695921449313786, 0.15370696470970702, 0.12360443461604964, 0.1103840880249276, 0.28629881457222583, 0.01826117571830821, 0.4951688559662728, 0.12612036233025814, 0.10171882177436975, 0.27859156154357345, 0.1506529912417227, 0.607695669068756, 0.33829961967092825, 0.5333778106679209, 0.22039819297483698, 0.08066592504642034, 0.24619009767812605, 0.1370933585967984, 0.3419945669562343, 0.5745355109705904, 0.25621176228697684, 0.2533740003362561, 0.026566722922068187, 0.5444109229808609, 0.2937781212348485, 0.13774039323470466, 0.20798198822039637, 0.24451171152701767, 0.4040083323563235, 0.09995907847360541, 0.0034081488852508723, 0.36535283678664876, 0.26224380908965916, 0.33143710274675253, 0.49665620766828567, 0.4636158132252792, 0.29130783864891807, 0.3329892139100312, 0.33100622446242456, 0.3150906578728311, 0.5295588500818309, 0.6544079020456667, 0.3051046538253628, 0.3194861311789088, 0.17799315038221297, 0.1735074796936702, 0.19018602502638227, 0.24805228950875335, 0.27222214104946174, 0.17759244937550756, 0.6655316924049253, 0.34452029508868165, 0.0839107006580998, 0.44813172132277157, 0.1637890740639677, 0.12260760543334737, 0.33108571012446464, 0.4028488070221954, 0.42997627330667787, 0.11616960987003544, 0.7664012223238159, 0.1523241884693014, 0.6057650637157548, 0.1955799214919517, 0.17167467045210993, 0.1925290950727765, 0.14205681149007832, 0.17930842375618217, 0.34557004286286774, 0.23226580856353396, 0.23336464208643437, 0.060037772309025406, 0.17502300272266957, 0.20534041488201094, 0.306241347495088, 0.4954919980095117, 0.5059923113608511, 0.25142706411971705, 0.19148833203371074, 0.042913507132314344, 0.007720573373485973, 0.09677621635136713, 0.1877954757837884, 0.4629537609405533, 0.1337670354809618, 0.20985935290243418, 0.08704742102743224, 0.09010775597406817, 0.16575715821862946, 0.02134612139027503, 0.3707397614371257, 0.6375763806579885, 0.23921891711344534, 0.30259292118497005, 0.2857018403938113, 0.4527710570684831, 0.3325637284861116, 0.1362939602876685, 0.12962709137698813, -0.02147062538958555, 0.43688313827551495, 0.34269472884037055, 0.12947935297051083, 0.3627207347294815, 0.14522830352215133, 0.2966355529909219, 0.1430933183337061], [0.42882971642185796, 0.3128907080015896, 1.0, 0.45421609663130136, 0.44146115913431305, 0.5857782689351864, 0.3815215835210447, 0.4673362652066979, 0.47189108725235307, 0.6789699637200849, 0.4727628436887612, 0.4468925944519989, 0.6225634765958175, 0.4519469041993427, 0.5859817841981748, 0.41953668480085704, 0.4579165727677137, 0.23027515781656893, 0.4276131404674839, 0.46949831993160296, 0.6743507179788957, 0.2390124386774517, 0, 0.06333697396848403, 0.142554095982654, 0.22647427564060763, 0.13229955615021782, 0.22708594514307334, 0.4165312976051101, 0.4363053663207246, 0.39838751811060336, 0.7336214516218356, -0.05417889354526739, -0.014721644305364379, 0.6336468996132354, 0.1914372535406268, 0.33189470235788787, 0, 0, 0.14991725301916226, 0.07073558976593552, 0, 0.7682591356487608, 0.7341023862625239, 0.4629793895744009, 0.3432118407585636, 0, 0, 0, 0.44927877398763094, 0.504510953814832, 0.30692878809364155, 0.2737987072210537, 0.47846681776010236, 0.10824462696624271, 0.7379894897288019, 0.17410252356642986, 0.15218892091308533, 0.5973148803784037, 0.5515040104209606, 0.22757247668022806, 0.10249477589897549, 0.2478697525411253, 0.6121312949868526, 0.5449446131686551, 0.20563260314636878, 0.5955728404509187, 0.4825545046514521, 0.6585056615239743, 0.30439935225740933, 0.5113321932974368, 0.013928536370832023, 0.4954693627868132, 0.6871417134685672, 0.5576939821363901, 0.4265904065486894, 0.24072741073279202, 0.29282242557397486, 0.2866805661885047, 0.31264480774143566, -0.010687380576499095, 0.14060157432586062, 0.18454399408680744, -0.04722561128052205, 0.3070249576891029, 0.03906492921481808, 0.16543270745749028, 0.11173495064552963, 0.1397007771854396, 0.08855257543749906, 0.2915761170331541, 0.20298474488260732, 0.10053612186738237, 0.059615936474387676, -0.007039046889181444, -0.03976676759390796, 0.44322890932057846, 0.7336214516218356, 0.36626627809066914, 0.4856672007734556, 0.39373938452358515, 0.24187284993825686, 0.4363053663207246, 0.3629535285729635, 0.20713543188843309, 0.4736762620476944, 0.287716214506901, 0.3186071753936671, 0.15238100959588352, 0.03522181085522147, 0.15199406698654605, 0.32383762747892153, 0.024181061002292448, 0.12435589052334295, 0.34336029186590866, 0.627150696306351, 0.2235089497600058, 0.07612655603317242, 0.16879952085951344, 0.19826189332902966, 0.2686059275035535, 0, 0.31606264008229457, 0.2388536443781697, 0.5684469381697056, 0.2802878380609668, 0.44121274480367445, 0.3734610795011044, 0.3275791013318391, 0.4963635077158557, 0.37813763141216605, 0.4571633433877835, 0.419321866323239, 0.28708715442712673, 0.304966967520664, 0.14406609468503584, 0.048902495493141074, 0.3732045556184549, 0.08415170616248568, 0.01725268547094161, 0.17536091683981092, 0.23093805218430352, -0.04806435526233366, 0.06932426381851564, -0.10705773252442263, 0.0008396392056301272, 0.0008168276036863986, 0.25011030243943055, 0.10727021948246473, 0.05970926481193373, 0.172884933180675, 0.20211465128121453, 0.3901644050257491, 0.2608836285018854, 0.3511750038484549, 0.2555476003717484, 0.37206151145995325, 0.3381322988562201, 0, 0, 0.38068653437023214, 0, 0, 0.5350134209511092, 0.18751830303796102, 0.2289497910906726, 0.45674434337541014, 0.31824422231696015, 0.09215089633272133, 0, 0.7659145255909132, 0.22970019497469352, 0.19156049423120314, 0.27286500483505516, 0.1606508861710847, 0.5142254377978877, 0.3360192046868501, 0.48816753420632697, 0, 0.28217095637232714, 0.22196211900552232, 0.1379643130369429, 0.44782775207655734, 0.33033129797032834, 0.31395006178154483, 0.08707169130242387, 0.2017038938793193, 0.40675215752694716, 0.42733671291046327, 0.20280405474852536, 0.2929621023328217, 0.44429018586467084, 0.3303961980698221, 0.5547028042184892, 0.3418456738732851, 0.4760008565686328, 0.32310613318174997, 0.29153030930986645, 0.24719835703849147, 0.2012682011993343, 0.2824768862229794, 0.32041013266890495, 0.16195933801809703, 0.07549694563841514, 0.5340593014461466, 0.3333100379559324, 0.07661745131465414, 0.17658376744422977, 0.18713266013169827, 0, 0.1045535587756733, 0.2780458097606955, 0.4134782712981775, 0.2859805513543219, 0.5232321556600309, 0.36932071701926183, 0.24736090167120428, 0.42555886319315306, 0.2692895393636998, 0, 0.24090622855646604, 0.09850750929060959, 0.29235111192524255, 0.2998573809742273, 0.32553564837496674, 0.45413735670355404, 0.39921821620171105, 0.1929611912473761, 0.21116693855442947, 0.5759392070449232, 0.30934258712346385, 0.2976878777688077, 0.19448169708391705, 0.15799556482735477, 0.3139578252818007, 0.2774036388947887, 0.5839003820942021, 0.28289516266859527, 0.400538074218008, 0.40506246491904996, 0.33027123276141523, 0.3059696956039787, 0.058372524834654826, 0.22398349006884666, 0.33617966157377366, 0.6309160357903464, 0.3474637242980946, 0.2226759891287683, 0.07087650137821933, 0.279303783126958, 0.5404696194458631, 0.17499533450803695, 0.665864391788312, 0.19288113084670333, 0.26497361724225543, 0.4701541202694204, 0.19205083965007397, 0.5166388474796882, 0.5142248690837476, 0, 0.34182892443210977, 0.20085270742436012, 0.4238124845253205, 0.27031228299390586, 0.4675457219124599, 0.640097514655125, 0.13130734005011147, 0.3968453337940532, 0.2687931093858401, 0.7334419790029119, 0.2904508250729154, 0.3563645744696191, 0.4558419858229992, 0.4720715208525683, 0.6187108409321544, 0.26172798657842167, 0.12960337839727476, 0.46924631899957503, 0.43391543349357065, 0.42421177641778773, 0.524870581285855, 0.38480756705513364, 0.4543134304180785, 0.3672383835415578, 0.40963716344103696, 0.2410913643304189, 0.48123845444428115, 0.5972896168245694, 0.232784079602675, 0.28855882009677614, 0.31404707009294053, 0.3460649950851482, 0.579184694245468, 0.40817737733636605, 0.3964980716660681, 0.25998889321450747, 0.7176496746708265, 0.26795680464629035, 0.17879606175891405, 0.47513716358958313, 0.3244527729631175, 0.19703526241532532, 0.38867431131559416, 0.460951944262024, 0.5273430490552222, 0.337956116681865, 0.6998663504809706, 0.2530993752974119, 0.5741322306988178, 0.4692662095514004, 0.3901709028420193, 0.2737471939124867, 0.37596023939220236, 0.19179146799792235, 0.4606600890666639, 0.2984906828784646, 0.18231686642110168, 0.11085828593373037, 0.30401890598201486, 0.3115945898817324, 0.27211318853063915, 0, 0.542122526073713, 0.4579397610334003, 0.25144565500757343, 0.16762113460216543, 0.05736282548937266, 0.24136578966515643, 0.2662208102470127, 0.418400996954823, 0.16073558805904808, 0.2784668902830344, 0.1609545279465705, 0.2891368295940254, 0.3307629753599335, 0.26752562180754014, 0.4676216423180324, 0.5482632370813622, 0.2978290663863409, 0.3485140814485257, 0.28666003213261315, 0.4908517998964108, 0.39016278518238967, 0.14793184303801876, 0.2753398669785203, 0.11010969982408925, 0.36357708773045627, 0.3775018086042883, 0.07289880815332905, 0.4962579181207307, 0.2612527265965021, 0.4045218674459785, 0.4207204321157211], [0.5107378958546607, 0.5492035923609146, 1.0, 0.6553902661032467, 0.6098259318023044, 0.6444271242763551, 0.5511772960206375, 0.5546691414294224, 0.5610068211735851, 0.7428056969353607, 0.614481777475246, 0.5431946966483827, 0.751341542690787, 0.5883741804981432, 0.7206475415887592, 0.6505760307446711, 0.6378839209195435, 0.3842510803750272, 0.6943387450138543, 0.5307436714934639, 0.6457237997435501, 0.3577851148810667, 0.30227191602870773, 0.24488359947054505, 0.3370783874199266, 0.4009975063784008, 0.3865338604147116, 0.40338984262489486, 0.5419576828449195, 0.49629406782333163, 0.6502564089800562, 0.7558719668022155, 0.23007644555951878, 0.3593048058001034, 0.770424614972917, 0.4635986943356152, 0.5275632716749485, 0.731675043810469, 0.5781338381237615, 0.38992778961254615, 0.40577692657745534, 0.3787585475345232, 0.8197725298217272, 0.7272932256520742, 0.5656449032566551, 0.5641391583846497, 0.3150878951736755, 0.3216587457071194, 0.34703805307109903, 0.5543557143661927, 0.5434433440846107, 0.49059707576563183, 0.38263011362822386, 0.5970911395783476, 0.4577303076280186, 0.7350438459979892, 0.3627214548521298, 0.4259210923736291, 0.6315409442073162, 0.6818723158477212, 0.4222625954999346, 0.22039797558575425, 0.38850239991607194, 0.6695383136615292, 0.7046975713452464, 0.30931699061992535, 0.7790265581570933, 0.7404147188390212, 0.768810359172456, 0.7353160426855031, 0.739042972342928, 0.5001663058414436, 0.6697250185250021, 0.7832095082548765, 0.6648432696668172, 0.5154927298905965, 0.5632354142513786, 0.5843252620926245, 0.4892131101457815, 0.4702420584032455, 0.20500631813530068, 0.4781369044753152, 0.4191537692938492, 0.37551683770013844, 0.48816835717923257, 0.33660047890477895, 0.49747160492549547, 0.4853239645748326, 0.4169062653231128, 0.29553173227148477, 0.4425738991932322, 0.3501958956767137, 0.23889218432842863, 0.33374417965973513, 0.12106895310834986, 0.17311199153220103, 0.5671323725717679, 0.7558719668022155, 0.5391917640435423, 0.6349100410347288, 0.5007275936091939, 0.46193268126377696, 0.49629406782333163, 0.5023402482674323, 0.35828729298110384, 0.4960519422981029, 0.37313893659159125, 0.6001474912420411, 0.5133394690718895, 0.5300951832500174, 0.5267737436955333, 0.5824451830266204, 0.3424444111792636, 0.42454250734296295, 0.502602391818212, 0.7506972399824453, 0.5001456885971622, 0.36031287590394523, 0.48467132894685805, 0.4202676984205088, 0.4338091400851066, 0.45079363992536314, 0.4550934770349395, 0.5256569290494041, 0.6533005707208219, 0.5977328548690879, 0.6350600529441486, 0.509339915199076, 0.44463079158008134, 0.6212913269272207, 0.4821038640647768, 0.6904104608244884, 0.5151931108712708, 0.3957438334653368, 0.5778353680960698, 0.3884382702058252, 0.2011688463879192, 0.5302089629290309, 0.35380684993360667, 0.3415295472030958, 0.49434693381036765, 0.5876021685074884, 0.3624358027517157, 0.27143115093530135, 0.28397034719167946, 0.3641273043527833, 0.25938051764933423, 0.49809111304414144, 0.37033946178822974, 0.3156674374858349, 0.43232901644926436, 0.47147309121159275, 0.36307976756936067, 0.317166173643986, 0.4517984106268442, 0.3524074889848099, 0.5249778614594326, 0.4994137661598739, 0.3786891321687741, 0.455807413217332, 0.5240758957409629, 0.3238950773876994, 0.3278448600833326, 0.5680548082309413, 0.4790905783617615, 0.4810433028903367, 0.3569562322956783, 0.5500112098077636, 0.3004290664767777, 0.3475303956875231, 0.7614892409716615, 0.38958780990174, 0.43314451340380467, 0.47247301286541865, 0.31793267074909326, 0.46269289852904627, 0.48729552589804337, 0.5595522412526279, 0.6677847823084587, 0.47984478723097435, 0.32210325189474553, 0.4252525828977002, 0.3946998472096792, 0.6233191698149178, 0.44137106387578773, 0.32836480527710354, 0.3313998619448453, 0.45081323485746383, 0.38278159026890946, 0.32696634502996236, 0.2730256875148497, 0.44906465304661203, 0.5140613208140729, 0.5223178549650058, 0.37759465458576047, 0.5947327798021959, 0.4068942797598316, 0.3465197059622094, 0.4420447554152436, 0.36758492690992095, 0.5833877398893456, 0.4490917554552718, 0.4297271114902619, 0.27834487026465315, 0.6098395908803811, 0.5122614788118446, 0.18434477394712134, 0.5454501734995807, 0.490453310230901, 0.8607957223925643, 0.45548921163580003, 0.40896160703683204, 0.3991933925862816, 0.2746969906207889, 0.5856901228086685, 0.4011567493537316, 0.4386307603152795, 0.4481941118580053, 0.3347672103350502, 0.27052246267803537, 0.39251314479506916, 0.3583401163728017, 0.3791728254904332, 0.4897766439125373, 0.5049378349973562, 0.4044420741760363, 0.4525532530745966, 0.28177619325763703, 0.4372897962996981, 0.5581843187508457, 0.4925560968109113, 0.5205203166113852, 0.3441106591914228, 0.410361192292114, 0.5398438479258287, 0.2855968059774757, 0.663724865909313, 0.37072128726326126, 0.5181452688358593, 0.4153430326989833, 0.4611819972879265, 0.4666580237037379, 0.5507143011302882, 0.46049292432332356, 0.4917835470188092, 0.587134458502298, 0.4746938785721456, 0.3706220286354378, 0.33100355157180816, 0.5568981974574959, 0.6211643686214959, 0.25207289281749556, 0.544968941008088, 0.36033883632407704, 0.29510904438381513, 0.5393115110985097, 0.3978272606845017, 0.72712210127199, 0.5009171919452778, 0.4535221353222346, 0.4509572068180169, 0.38090078082373346, 0.4831365331928923, 0.2829999937979981, 0.5717040799248565, 0.5596016437087438, 0.4333420683840443, 0.45087244556294037, 0.3722374422327748, 0.7308359194839328, 0.5347849576892775, 0.39657266140075265, 0.3490953396339145, 0.4637464053824256, 0.45951049455149484, 0.32519847206586916, 0.3468806305572819, 0.6449357595107351, 0.4456993887885128, 0.5112604656468063, 0.5792784987884518, 0.6453989551177816, 0.5482731645846415, 0.47588242409406467, 0.4272776806983509, 0.5487034180734472, 0.6375134710245074, 0.6521381284687972, 0.49887258182617744, 0.45477214068315797, 0.5131516408745607, 0.4823627291960393, 0.5440716869499093, 0.4930011206876923, 0.46903227849148954, 0.390285912553764, 0.7326618764706702, 0.5660437123909285, 0.3526649414361903, 0.6032741404160251, 0.397340215683085, 0.34403368757628416, 0.6024123356518182, 0.6238496612280041, 0.6763340150096452, 0.5619966317316086, 0.8119808402078398, 0.4350578636010223, 0.6205568729369423, 0.5499293231732647, 0.5234635562443068, 0.46489276118057643, 0.453722164491172, 0.3896934071861522, 0.6363710793631636, 0.37970363112197036, 0.363678685225318, 0.31857372522669736, 0.4609130417159448, 0.5029529549685005, 0.48806953873577186, 0.6650053597395127, 0.5957699444073231, 0.5536244020832041, 0.46940491320364586, 0.3634786757570091, 0.23542688441166826, 0.4893514903788947, 0.4657783628179022, 0.6282094950481296, 0.5118819966229392, 0.5199049184894512, 0.42024089600105996, 0.46177528870411844, 0.47145299446761413, 0.42445847097217393, 0.5980363914419992, 0.670584438764236, 0.4678819183260434, 0.3615444766245134, 0.4335040750969672, 0.568772047456158, 0.5357459587863691, 0.3366333654157353, 0.5057479439363317, 0.3186075034390907, 0.48647612313108435, 0.4229207097458858, 0.35041224320156816, 0.635658861750088, 0.3796291789366413, 0.5473617299827824, 0.2501998961765539])\n"
     ]
    }
   ],
   "source": [
    "#print the outputs\n",
    "print(mc_results)\n",
    "print(rg_results)\n",
    "print(ws353_results)"
   ]
  },
  {
   "cell_type": "code",
   "execution_count": null,
   "metadata": {},
   "outputs": [
    {
     "name": "stdout",
     "output_type": "stream",
     "text": [
      "MC Results Normalized: ([3.741430019803334, 3.3958203749236557, 3.5812263001717533, 3.048574823956619, 3.1055836854514993, 0.8238335375671316, 2.438294221826058, 4.0, 3.247870070872817, 2.848877868992972, 1.785583081228776, 2.493434306097936, 2.6249198198761268, 1.5110860415127256, 1.2801716691497125, 0.0, 0.7651997598482286, 0.47220222468339895, 1.8535592015803843, 1.0531980941503916, 1.2870304311366332, 0.7806009021347594, 1.309773108929326, 0.5192306647626249, 1.27525557424832, 0.941531355388551, 1.30352600335566, 0.7224300442208037, 0.0032168521697506515, 0.4978369299478037], [3.402988697808125, 3.627025014252056, 4.0, 3.431736901462951, 2.9490122706147592, 1.4101282784197628, 2.816572480118955, 3.215935681216847, 3.5506908731974884, 2.141310532617928, 2.073998024989741, 1.7128350516264563, 1.1683304434749913, 1.2336441988324973, 2.0540877161065527, 0.030495957661747657, 0.48351023084415073, 1.716916117205607, 2.1884250089128905, 0.6026751102367017, 0.860439242903601, 1.2685995325153903, 0.5942716806275398, 1.0427306625960093, 1.3112280950116841, 1.8774633872935087, 0.0, 0.11494355599943619, 0.2685338405146554, 0.021282648374885218], [3.50123667036011, 2.88564100322946, 3.844023278381145, 1.9152538610460144, 3.042389200901883, 0.33309841323481304, 2.955986497644118, 4.0, 3.2949156261743786, 2.5808120915025725, 1.5684413633828207, 1.8521958992153191, 1.8187420176033142, 1.9601657475428356, 1.0230694056032923, 0.19901882598878945, 1.262417853062937, 0.0, 1.92955518052583, 0.4700129626536581, 1.158321246445278, 0.8658367907660577, 1.01816288479245, 0.7395655124738146, 1.8454074242991914, 1.3628621412240451, 0.6592892822906412, 0.581951533812669, 0.040627317884343775, 0.2188908086566685], [3.974730742195016, 3.7414761015121023, 3.9130145467121613, 3.7106749302871207, 3.7331893624780332, 2.2901322070459944, 3.314438671077858, 4.0, 3.2849479605618432, 2.3827193408805094, 2.671133539284152, 2.798537593769707, 2.223963804518599, 2.10935942576498, 2.1570522970788217, 0.5070667511575462, 1.8007343840736985, 1.537123093361839, 2.217652437794851, 1.302028846420583, 2.2738534825667074, 2.200469423812145, 1.787157182355619, 1.053931995598896, 1.9422157038167571, 1.384158942009887, 0.2839598337544096, 1.2847739042615922, 0.31439269514210283, 0.0])\n",
      "RG Results Normalized: ([1.7690525922465712, 0.6932323419024726, 1.102459867076079, 1.2255764771177013, 0.10485395886861838, 1.0661998668261028, 1.7169595390492518, 0.9064820540499438, 0.0, 1.6840759155480873, 0.9255958716421249, 1.2882786165652873, 2.5005429473150076, 1.8923293768065808, 1.1201601294508268, 1.8245953524832281, 1.7456628467450068, 1.867049039518466, 1.7742211805596335, 1.0812508068999687, 0.9085789691040729, 1.6354735574061035, 1.552510181909872, 1.4695536827418427, 1.3364066996958623, 1.5619419726652877, 2.2241265663641965, 2.3018024314876193, 2.325801794771748, 1.755404860383685, 0.8090652598922454, 2.011741327890054, 2.5914994709430244, 1.323664452411692, 2.659113517079814, 2.152199063421418, 1.5090701735061158, 0.6905708558217012, 1.7497302136805604, 1.123446685065105, 2.2669235954512295, 2.753531896245327, 2.1678860279142507, 3.047610717784178, 1.9407789021075095, 1.3721755356157443, 3.3777198230844356, 2.707911345769877, 2.5030680432964765, 1.9589719773534149, 2.1641884814622414, 2.984518617401276, 2.949239657274702, 3.6535245282432562, 2.420363983694435, 3.2599981454011617, 3.8484688065035195, 2.8623173940790276, 3.1179995211012543, 3.2128314484742666, 2.013094264173439, 3.296906634873148, 3.786070242931887, 4.0, 3.5001275851134075], [0.20801107573144556, 0.4089890734734039, 0.2239395860779735, 0.45606622871588604, 0.28247227094037786, 0.0, 1.2306739393091324, 0.12541246251660998, 0.3867109135883812, 0.7507387367561484, 1.449903299334466, 0.2940379455435823, 1.4088616646926617, 0.6882332994461424, 0.9884189392284648, 0.5425963049867359, 1.1893696881632683, 1.243038319282211, 0.6527800935147116, 1.4929975894071714, 0.8735930773293231, 0.727857569614963, 0.7191032449003575, 1.6131555137245086, 1.157465317672371, 0.6590694477867021, 1.845887611727051, 1.0464329694109047, 1.6582318408915209, 0.8519871045475774, 0.23193052446590523, 1.1892537458560914, 1.3581645248973664, 0.5698832252399397, 1.0540524648167613, 0.9120253955772839, 1.2618967006139745, 0.23083507623110355, 1.7453459441348078, 1.6486539117594285, 2.11891615821038, 1.4899432094184915, 1.7602473584448177, 1.810625861877293, 1.131303799405155, 1.2633892634971389, 2.865444272710324, 2.3160101884857873, 2.2073023111304675, 0.9796410913263957, 2.231223239194803, 4.0, 2.151661673948539, 3.201719389838544, 1.536535837227979, 2.4151317139672597, 3.0158475359164174, 1.0824212162953242, 2.281475873393558, 2.7764158991658876, 1.2592288749206506, 3.018916305486716, 2.7548999650916137, 2.614904422354583, 2.922574810891645], [0.8385840910765473, 0.34292120824477457, 0.48574329982860004, 0.5283516525551561, 0.33827143428705125, 0.2779101736320449, 1.3558357009292783, 0.0, 0.22911238755991742, 0.7767863944050948, 1.076068481755771, 0.7766222224507668, 1.1189635290187117, 0.5212095620635885, 0.9029002281024324, 0.5665795754924209, 1.7888845321441016, 1.4271956542055073, 1.126108352502533, 0.31037119763663623, 0.9349001021467388, 0.8724956213462184, 0.9247369256847174, 1.4022763359615042, 1.004066922384744, 0.6869386826941403, 1.8563024789951692, 1.6037065485115556, 1.5127329774066358, 1.2384011740864291, 0.3865007073875385, 0.9693957595062483, 1.8734497796114686, 1.3218018469864175, 2.0899475842670414, 1.5442167664849982, 0.5347037667175459, 0.4698221590709063, 1.1300393849397867, 1.0092927045492033, 1.0196059770811496, 1.7943233585800988, 1.566983390488962, 2.3780799544677853, 1.8808272158719943, 0.5772447558472175, 2.950209222145427, 2.678664180445334, 2.036558844538223, 1.4486502631659885, 1.3734091418041017, 4.0, 1.8897140699631194, 3.390146211223112, 1.685892163774217, 2.747888757751135, 3.0599732061428155, 1.7675205997946417, 2.8461703452316303, 1.8448444717965755, 1.6937865324129884, 2.965171580054266, 3.1155106135896244, 3.51511247057032, 2.622304403116439], [0.2800192946028875, 0.3100298361145423, 0.0, 0.5916321926416321, 0.4762484048799247, 0.6594872233938063, 1.237950509827365, 0.0763204545134239, 0.6500504921467151, 0.9883688903877484, 2.1661677393521117, 1.2669449676698934, 1.9991780757586841, 1.3976988318265748, 1.0393064753737675, 1.275055878635705, 1.9152633812984596, 1.334561824253574, 1.762356622523319, 1.515792281711415, 1.5807263843359924, 1.0550958408740825, 1.6459164262772563, 1.3649508292609667, 2.1699332884664733, 1.2839604612623887, 2.186877852037216, 1.716358105463197, 1.9592425120770147, 2.242298989262459, 0.5490344691497053, 1.9016980825115377, 2.259493496510696, 1.7757454120486216, 1.897153966801501, 1.938541899018244, 1.9732524172115746, 0.5000301348905443, 2.1271186655643337, 2.1293610017141167, 2.729652328099722, 2.7597020063225273, 2.6340659507054225, 2.3496541051192112, 2.08008763301894, 2.258351812246104, 3.2393624075695073, 3.2684438725318183, 2.8638698846599326, 2.206751162491844, 2.7569873546443513, 4.0, 2.8763947249279385, 3.8587132505819115, 2.775016053473688, 3.6813835185021793, 3.7140180844814394, 2.1931016352906334, 3.2257402367124146, 3.659181521349524, 2.774421799120764, 3.8216670841919975, 3.919573004217454, 3.944491597992269, 3.6895552616258387])\n",
      "WS353 Results Normalized: ([4.001878544677494, 5.557086304172435, 10.0, 5.862427564282731, 4.734321241323955, 5.545494573932321, 4.335480548742679, 6.084869076902211, 5.074903446062611, 6.570459541850986, 4.9694046301989365, 6.0226192597311785, 8.490623631070362, 7.192976887861244, 5.58581880712795, 5.5754172723198625, 4.382287224439051, 2.6998606591556884, 4.440702394503196, 5.5466579171500605, 6.300470688350027, 1.9485882857318826, 1.8890946879717512, 2.7715990699236563, 2.528706982547114, 3.1470632798657574, 2.510805541167775, 2.242246623674361, 4.180650191193093, 3.835134647104416, 4.7417072650605245, 7.685969960616643, 1.8998273305892988, 2.13826367387682, 7.336747672857654, 2.2739990694495713, 4.401370519606643, 7.612567229176463, 6.367133742132243, 1.2114355749884194, 3.426001406039041, 4.437937223958504, 8.31497729510421, 7.394805816491367, 5.905460499100444, 3.6370632788857216, 4.400294330573604, 3.570940632968249, 2.7929373441631586, 5.611230066287248, 4.772547763482957, 5.350667573675503, 3.26085562787992, 5.134198374424837, 4.271067585800368, 8.391000832857694, 2.5340848196256522, 3.686519180648476, 6.200888136277496, 7.301472086918332, 3.1795893829671957, 2.5117791729843058, 3.4667826743153687, 6.3408298728859736, 6.298590911091661, 3.2200564524218525, 7.5451990381822736, 6.966811780344915, 7.277093701812642, 6.385686788622044, 6.4810926881996815, 2.662520982643593, 5.364365395521124, 7.977923020341614, 6.719212872374741, 6.051488435390017, 4.272035327876781, 5.456643844955126, 5.676688473009357, 3.812656973024698, 1.2838128714339292, 3.426215412133724, 2.5643957410193665, 2.074056297581411, 4.385795237159048, 3.046368884149521, 3.4376937391901214, 2.590169976740626, 3.475754236746472, 2.1527596870868217, 3.417988191940623, 2.859491521839256, 2.6763707006061224, 2.4928194441575067, 2.116956682750088, 1.289196362123195, 6.272348607227474, 7.685969960616643, 5.276462015345486, 6.331751568252107, 4.530570817152481, 3.5389458747215117, 3.835134647104416, 4.738935722502066, 2.256388654812571, 6.349678760774038, 1.7430249286163062, 5.963958797290464, 4.375735999137995, 4.614123256338351, 3.4245819990557003, 4.170189839666507, 1.4277907414198854, 3.0131276508299267, 4.511302811955803, 8.03405896729429, 4.915787855665856, 2.780098590466252, 3.118996625198485, 4.558240601213302, 4.200674299571001, 5.3511228761518295, 4.400712990762475, 5.1366883730269945, 6.729771642978357, 4.784550462091844, 7.440778104136041, 5.504163197949966, 5.362076941508017, 6.816505409595627, 5.3376697203063665, 6.088623999324874, 5.128821975700226, 3.569822305385433, 5.000623065281961, 2.5744086696745136, 1.8259866848410955, 4.986010913251486, 2.995034976696792, 2.03564064041233, 5.209511084787626, 2.477225875100703, 3.0544059135778445, 1.100586654519591, 1.1099011489568538, 0.439635269178406, 1.4940633021050673, 2.5285902458880267, 1.034932437101461, 0.7955763229854157, 1.6299445388404241, 4.572451414099198, 5.11998329185686, 3.083342014410204, 5.5077306249883495, 3.874084810541812, 5.051443159369408, 4.325520107852573, 5.390421379361178, 6.969878966744964, 4.094005917411211, 2.554222110321866, 3.202624750729549, 5.616995314639227, 3.4009433513701346, 3.6864877662451607, 3.2420864230413, 7.21575197390276, 2.9402581489861164, 4.180985095012457, 7.518332548448306, 2.8576922260330493, 2.10881353497494, 3.9866215818760495, 3.5870688493745284, 4.826540981185292, 3.4810469672065376, 7.030672018572773, 5.3192171242602795, 2.4380200370014373, 3.364747355915734, 4.002887651251668, 5.657217291447786, 2.335624832940199, 2.0425378447243814, 2.6344596421774265, 3.037064780453814, 4.769785704705561, 3.6984673547847255, 2.839099839470311, 2.6617652065765767, 4.111334388979866, 4.362323630580573, 5.828329959811776, 3.1622105082797507, 5.178230020517988, 4.348564497543864, 3.304892601448081, 2.518820873988863, 3.094472342325732, 5.874698604089606, 5.038799394474932, 1.8921837863154154, 1.1680941995666336, 7.042100049700134, 4.1934315286668395, 2.4764075071441147, 5.110164670722713, 4.311812152952882, 8.717675527359226, 3.06506681074376, 2.82082248536605, 4.074877995999326, 2.5475946399814884, 5.341661723494967, 3.542600597355193, 4.3848649116631355, 4.04021693432599, 1.499098088054057, 2.421913142281794, 2.542272579876169, 1.8443625017475924, 2.9007544546951434, 2.9036519594696757, 2.4399829098007673, 2.7372781470794725, 5.170764974866204, 1.699628430084684, 3.1991583862349664, 6.061127688532869, 4.331335450408445, 3.554853945417969, 4.215979621940082, 2.2669423855823054, 2.947125638652771, 2.5027776992535697, 5.481661515211108, 2.7155772200281745, 6.080585741963283, 5.8255316384872184, 5.420383807511588, 5.647697726582345, 3.8355769382762017, 3.0759053774736955, 3.241166870370896, 8.603787301827513, 4.4568589716271765, 1.4864944749963098, 2.0078883005421524, 3.2803463251811062, 4.99259087868418, 1.4064405375138191, 6.156072320443779, 3.403885550765679, 3.2875290394065093, 7.251165821141407, 4.950905634348752, 7.342233569312205, 5.059723678541174, 5.774265358140564, 3.9736890668133222, 2.7440958426714097, 4.473484755003812, 1.2527772794565748, 2.1733660014826, 6.172029712069556, 3.7327942032548065, 3.485136875883641, 2.4984934027359422, 7.587084003472514, 3.944112212371943, 3.2650342089042947, 3.5107693054463254, 5.568050424892479, 4.37368263152253, 1.4413647543157349, 2.439135864579305, 6.28404344058885, 3.6472147532458767, 4.986090700243166, 5.7901587810624555, 6.138301694837294, 4.981591471379326, 4.497567908867137, 4.757958320814298, 4.354350550561237, 7.750321493336965, 7.501647782812064, 5.432177625475254, 4.380560268409136, 5.147875796501066, 4.565398081305643, 5.1450760951633026, 4.437821079281611, 4.253303539168418, 2.8581357582235136, 7.720921287233391, 4.660356521371467, 1.4828229204907346, 3.5061005019718383, 4.329074616358807, 1.9084882448496412, 5.2018104200277, 5.769577500297055, 6.464636994803222, 3.8472965779207113, 7.46451288077799, 1.7195122495341604, 7.403940908242682, 6.195605341593956, 3.9688397625306613, 4.8171506581363746, 4.78400766810668, 2.9956213796029423, 5.964270439653044, 5.434164436916986, 2.26643463500169, 1.675997936429723, 2.9804240488398066, 4.871793657654264, 4.22108480488376, 6.463878178351093, 6.871239418922492, 5.321940494824283, 1.6847444639972804, 2.2389503633607672, 0.0, 4.267047998579302, 5.215845926851317, 4.726424094259558, 2.1629097198000764, 4.107236991215694, 1.9345120252428727, 2.613977549812355, 3.309615209827251, 2.833187123892618, 5.165076641158651, 6.169798983819031, 5.165325703770942, 4.087604165110769, 5.561561136659647, 5.67659036903604, 4.053306984011058, 1.8934632563366254, 2.7488802640918317, 1.9883498771696673, 4.569225454661204, 5.351462451266334, 3.087249306826889, 6.9287557339745, 3.350883213417123, 4.298639738626621, 3.2454682076088415], [2.7940926377248196, 5.274422825512791, 10.0, 3.7684218521427644, 4.090790536911275, 4.193296793396911, 3.910445091469328, 3.541234792763244, 3.4622157820462602, 6.196631080485225, 4.027396594083314, 2.5681434178455245, 6.492567370966309, 5.769396032691415, 6.396884706565454, 2.2989546104587153, 4.32839129896319, 0.8592786136043503, 4.816022619219335, 3.554084476643609, 4.792367123365708, 1.416958904032101, 0.8574748160094233, 0.5632813154254109, 1.2300725446990364, 2.7215084047480933, 0.6455633397520228, 0.9401669420466081, 3.387291198640357, 2.768471912904365, 4.297597082781963, 6.232119372844566, 0.7644739280318179, 1.3666797434724347, 6.584294179767485, 2.253873465024374, 4.398089341016679, 6.709398841067557, 6.419389721555581, 1.1960849079069384, 2.3971553447817624, 3.0378640492583324, 7.370015673977822, 6.752199882732401, 5.155199697914418, 4.047876077753792, 3.2938492730694424, 3.358086698100269, 2.6295010701544874, 3.5843252694760452, 2.7966511167478654, 4.570135372605996, 1.9165885860474368, 4.852426231921712, 3.7972367277179857, 4.490280152208905, 0.9958425654739361, 1.0791558851229768, 6.056419882201758, 6.947041020100911, 2.614916290067449, 1.1252403561472115, 1.9042215622928875, 5.173821184848619, 5.92721515937756, 1.7452289695037606, 5.925842492800784, 6.290456901404679, 6.897465872142542, 5.9726295916087215, 5.187005374120321, 2.6825039360036818, 4.971462391385482, 5.621417629436846, 6.166224687008924, 3.872487727148757, 3.762938032036541, 3.1751528638429067, 2.288983028369252, 2.3952797960602012, 0.4371812548039314, 3.7305344217032084, 1.1744524880009086, 3.1817947125227755, 3.949165549671649, 1.368390831193332, 1.7878965536736366, 2.452168868870544, 1.354714425663089, 2.0845720179006437, 2.5215459607230177, 3.4430820290847763, 1.6658626815595972, 0.574617950847903, 0.42218678707550467, 0.8245829192276429, 3.279940730607642, 6.232119372844566, 1.777553243289404, 3.4360362085190648, 2.8362561476877586, 0.7308415929040396, 2.768471912904365, 2.7595703227288935, 0.7586802624253505, 2.680785409578796, 1.038110314597551, 5.622668451411128, 4.387645359711892, 4.409408780727823, 5.070318243748814, 5.19960058146276, 0.8263909467020571, 3.4384478259861995, 4.804016318072295, 5.649691547191537, 2.872947298060024, 1.887131393651737, 3.2798511010265248, 1.3949657943283043, 2.0767686833883134, 3.4710063932061077, 2.6625289062169246, 1.9350822049595382, 4.9179496148148685, 2.7527668115048742, 4.121334762760055, 2.101300427685152, 4.058855113629254, 5.129367987470071, 3.349533693214123, 6.415472476819906, 2.9549365787104622, 3.2242349267776875, 3.859221231353737, 1.0782165595305322, 0.008820857897276338, 3.597174229542279, 0.5316069391458197, 0.9621956013600002, 2.988259998594822, 3.695538409523622, 2.1178688157039987, 1.026586098226512, 0.5401015086298928, 1.2484300498273513, 0.5508023427344612, 3.6681651748997868, 1.1284345257205368, 1.4394422353546874, 2.675652236108226, 4.179828555208067, 1.5141372551379293, 1.1189374063863562, 2.482484703511332, 1.3142047458800405, 3.025218622153192, 2.740261727126047, 3.5181669223820826, 4.293867506258555, 2.509621975551773, 1.5452442898239591, 1.9696274892564594, 3.2681724446657885, 2.5959284571337613, 1.4675555084209062, 0.6140855364707649, 4.0589026629183245, 0.6806047446936042, 2.7569944573483194, 7.316103038842927, 1.2283145168707517, 1.5767009784231172, 2.850627479559843, 0.8902488704651219, 4.871587664712293, 2.384381044246403, 3.536259152489376, 4.248375828782024, 1.4811854755277627, 2.082754517151517, 1.3513973347263055, 3.3695175687324137, 3.4881839225569133, 3.0679821572843475, 0.4432204793985155, 1.4424182652934727, 1.889652854035849, 1.3752515749933076, 0.8826118286793964, 0.8110789290354474, 3.104232268928232, 2.918221354549604, 4.185349321935368, 1.5658738025738996, 4.785294443570213, 2.4746352742025026, 2.51769070852457, 2.904455665226939, 1.931303558775978, 2.650856411813098, 1.8055224696094694, 1.7865138568843988, 0.8089417476838751, 4.639537934584479, 1.607023702538306, 0.9498277413130617, 4.051093003176334, 1.9744997388282397, 7.8635664802861225, 1.6349358331787267, 1.738624795845805, 2.9095143812269257, 2.1545265106815394, 3.7529053862781185, 2.4301358698018922, 1.1557599616897625, 3.3544939103741203, 1.3732661487220608, 1.3799714116413733, 1.5187261014337543, 1.171432664338201, 1.718648233089268, 1.4606048764561332, 1.9398624640336455, 2.082644608398952, 2.620121698261115, 1.2095856236919023, 1.6222204418217632, 2.8353979651296397, 1.3519765876362004, 3.1747954802225906, 1.4539411857462168, 1.3766332339047307, 2.467343620447501, 1.44292105186338, 6.736482621941343, 1.7702480313580267, 4.438878014674628, 4.299692505458535, 2.01878202065277, 2.2645305965753026, 2.204902588861996, 1.1485503281136678, 1.948180673866084, 3.962336115186051, 2.823672386787601, 1.714954749995678, 1.420256798381295, 1.2908321603885986, 3.013003333741772, 0.38896665376686856, 5.057800670076183, 1.4448872444428147, 1.2060008785565541, 2.937550816194213, 1.6850569399943427, 6.159416421968862, 3.5220811653129878, 5.431858951850809, 2.367848985105906, 0.9998970885437978, 2.620346747275544, 1.5523107571097128, 3.5582539851030512, 5.834784883146896, 2.718456906880266, 2.69067576584512, 0.4702763556546959, 5.53987098899316, 3.0862243004217493, 1.5586451011605709, 2.2462967402755165, 2.6039156712427087, 4.165356762791224, 1.1887733317527176, 0.24355839175842908, 3.786926932222854, 2.7775094792475015, 3.45489845096368, 5.07236155577415, 4.748902479989128, 3.062040711344107, 3.4700933192711925, 3.450680235837194, 3.294869914972379, 5.394472065814479, 6.6167201546052725, 3.1971088653713715, 3.3379007491131185, 1.9527118138685946, 1.908797964786229, 2.0720777000830806, 2.638577245386217, 2.8751954205930677, 1.948789028457584, 6.725619912295475, 3.582980375364974, 1.03166281465503, 4.597316212918529, 1.8136566519756336, 1.4104980333426813, 3.451458385106144, 4.154005233874903, 4.419577885796599, 1.3474713010677664, 7.713113114857412, 1.701417637855246, 6.140516168696625, 2.1248829039871304, 1.8908551165436647, 2.0950159029853967, 1.600902001634115, 1.9655880859930872, 3.593257203186486, 2.4840306480310708, 2.4947880158455518, 0.7979514601070777, 1.9236346423306407, 2.220436247837195, 3.2082368767059286, 5.0609641682249, 5.163760206508768, 2.6716156365751615, 2.084827033984207, 0.6303082136830317, 0.28577619402357357, 1.1576137267369164, 2.048674685026411, 4.742421116078408, 1.519746696693703, 2.264675777668998, 1.062370700827832, 1.0923307884756657, 1.8329238154724905, 0.41916767565910584, 3.839663883404611, 6.451942813296425, 2.5521002368874264, 3.1725194882717145, 3.0071590719140087, 4.64273441321129, 3.4659278992058105, 1.5444848021653403, 1.4792174440546981, 0.0, 4.487194758931867, 3.565108434626445, 1.4777711136091118, 3.761159161797117, 1.631950295664728, 3.114198005049659, 1.6110492033045736], [4.840645913960576, 3.7933743488553593, 10.0, 5.069959882542457, 4.954745136985301, 6.258354746140798, 4.41331379287113, 5.188473743111215, 5.229617234654956, 7.100150905880305, 5.237491769205383, 5.003807034645331, 6.590633782544344, 5.04946237491217, 6.260193089860455, 4.756702400013836, 5.103386108002028, 3.0471120017541606, 4.829656641056082, 5.2080034809142735, 7.0584254781498466, 3.1260354454390638, 0.9670474210978952, 1.5391673034463684, 2.254731810037468, 3.012778813300708, 2.162103038012609, 3.0183039949104415, 4.729554879993415, 4.908173104993512, 4.565662980217478, 7.59381520446326, 0.47765204492610946, 0.8340675062040745, 6.690749817072593, 2.696291054165636, 3.965036528685525, 0.9670474210978952, 0.9670474210978952, 2.3212428583792564, 1.6059986490942637, 0.9670474210978952, 7.906695761721471, 7.598159464266149, 5.149118292132502, 4.067263703187701, 0.9670474210978952, 0.9670474210978952, 0.9670474210978952, 5.025361281235442, 5.524270942443943, 3.739520609047652, 3.4402581595903747, 5.2890154965030955, 1.9448160034049136, 7.633271485546324, 2.539707260340642, 2.341762726740078, 6.362564410228599, 5.948756994304765, 3.0226988112137003, 1.8928778713785388, 3.2060431415460795, 6.49640038077607, 5.889506269978508, 2.8245169739952405, 6.346828646173074, 5.325939378350057, 6.915297834582515, 3.7166723350875905, 5.585886875219647, 1.092863229629134, 5.442598679450022, 7.173965933845001, 6.004670715274984, 4.820418334066776, 3.141526706689095, 3.612098505346701, 3.556619380771464, 3.791153143466249, 0.8705088191576994, 2.2370947745023737, 2.6340245684052173, 0.5404607138912751, 3.740389304442987, 1.3199190741935143, 2.4613932225607895, 1.9763439316849314, 2.22895791664974, 1.7669386357644754, 3.6008406593987865, 2.800598995863029, 1.875185442392683, 1.5055553482178794, 0.9034640443472508, 0.6078360952059036, 4.970713140589181, 7.59381520446326, 4.27551334234188, 5.354056214812647, 4.523676609945541, 3.1518734047140744, 4.908173104993512, 4.245589433042664, 2.838091954756518, 5.245742633926326, 3.5659743429199575, 3.845010927726836, 2.3434978547027376, 1.28520436829617, 2.3400026204618354, 3.8922573533791582, 1.185473798439142, 2.090348283102394, 4.068604655000635, 6.6320699206586, 2.9859931652402403, 1.6546949917406755, 2.4918054883632768, 2.757937701742368, 3.3933520266495107, 0.9670474210978952, 3.8220262609238653, 3.1246010640638495, 6.101801657206943, 3.4988741707456006, 4.952501222116722, 4.34050364229696, 3.9260539092677647, 5.450675448192729, 4.382746713942353, 5.096582222732083, 4.75476195489244, 3.5602920730500762, 3.7217995768436314, 2.2683896226154445, 1.4087813438774124, 4.338186474229631, 1.7271857922973324, 1.122890110815624, 2.5510742671047026, 3.053099895142729, 0.5328843792777314, 1.593250208737846, 0.0, 0.9746318422257392, 0.9744257861071326, 3.226281922528135, 1.93601422681142, 1.5063983786652007, 2.5287088241255913, 2.7927394816224416, 4.491383989671041, 3.3235968659673394, 4.1391945777567525, 3.2753967769081243, 4.327861410550295, 4.021380442061286, 0.9670474210978952, 0.9670474210978952, 4.405770833490789, 0.9670474210978952, 0.9670474210978952, 5.7997982816254545, 2.6608913601159916, 3.035140026969484, 5.0927974154897555, 3.8417323897965754, 1.7994420977746908, 0.9670474210978952, 7.885517010252918, 3.041918389668869, 2.697404281479403, 3.431824070214842, 2.418199257639903, 5.612021415591388, 4.002292962634612, 5.376641608143218, 0.9670474210978952, 3.5158842891525808, 2.9720207163874037, 2.2132725183414057, 5.012254269121766, 3.9509143709910526, 3.802943441313976, 1.7535618795974928, 2.789029129489689, 4.641220371404928, 4.827159684042013, 2.7989668304503907, 3.613360198885739, 4.980299601285069, 3.951500610512146, 5.977651546987526, 4.054923182498114, 5.266740585999138, 3.885649800081071, 3.6004268804065815, 3.1999784578090997, 2.7850935381724096, 3.5186477389859934, 3.861296955295846, 2.4300184411257426, 1.6490077509016492, 5.7911797653825206, 3.9778211880258936, 1.6591292255395067, 2.5621202186255, 2.6574078660313303, 0.9670474210978952, 1.9114747594740062, 3.4786220354286934, 4.701977038140751, 3.550296179969763, 5.693378670931678, 4.303103944339011, 3.20144671576835, 4.811100451853135, 3.3995270601645875, 0.9670474210978952, 3.143141959610605, 1.85686108118573, 3.6078411515079125, 3.6756449238718734, 3.9075954956111194, 5.069248628509048, 4.573166636681839, 2.710056711203903, 2.874508363291991, 6.169478966665168, 3.7613243412190367, 3.656047904297541, 2.7237913683213213, 2.394213865860244, 3.803013568643633, 3.472821336449405, 6.241391883357643, 3.5224260102841134, 4.585088851553933, 4.625957458204871, 3.950371804807298, 3.7308571720697463, 1.4943236698401177, 2.9902796653467774, 4.00374236208515, 6.666082053660997, 4.105670765571299, 2.97846907135818, 1.60727149700584, 3.489985249191665, 5.8490838638896445, 2.547771979238104, 6.98176889610121, 2.7093335294011784, 3.3605415403073455, 5.213927294267006, 2.7018335483953453, 5.633821630800556, 5.612016278423531, 0.9670474210978952, 4.054771885590254, 2.781340402606239, 4.795325496161798, 3.4087654548766126, 5.190365755601697, 6.749017916850734, 2.1531403970323253, 4.5517325024181545, 3.395042831715835, 7.592194036807311, 3.5906759504845307, 4.186071723082592, 5.084646462509612, 5.2312470828093405, 6.555833107290689, 3.331223912432305, 2.1377485922259836, 5.205727168445427, 4.886584955099069, 4.798932280891593, 5.708178491913806, 4.442995926309609, 5.070839094022739, 4.284294324781451, 4.667280493016753, 3.1448142822773795, 5.314051559237227, 6.362336205744839, 3.069774973272231, 3.5735855592560175, 3.8038197127905726, 4.093036110920029, 6.198795298643122, 4.65409431435792, 4.548595700083617, 3.3155147645457843, 7.449542900663994, 3.387488530661971, 2.582103768260618, 5.258938888276651, 3.897813933367026, 2.746857602867061, 4.477924043849091, 5.130804474769484, 5.730512176027364, 4.019788996835088, 7.288906976561782, 3.253282075909164, 6.1531566350196, 5.2059068388568335, 4.491442684137276, 3.4397928423169066, 4.363078435080341, 2.6994906565611485, 5.12816816062989, 3.6632996047831723, 2.613907029813736, 1.968425060915652, 3.713235781923133, 3.781666575342033, 3.425032949189007, 0.9670474210978952, 5.8640144910763645, 5.103595566506362, 3.2383440989522847, 2.4811611811810224, 1.4852031035352353, 3.147293153312513, 3.3718073755760565, 4.746443785556175, 2.4189643657772195, 3.48242563581888, 2.42094203939884, 3.5788066916348256, 3.954813692380739, 3.383593676526704, 5.191051541025003, 5.919483242409202, 3.657323254384399, 4.115158591902054, 3.5564338976183434, 5.400888452830919, 4.49136935770279, 2.3033087441699083, 3.4541793825960827, 1.9616631180860389, 4.251222013342437, 4.377003356670209, 1.6255388982053987, 5.449721662387139, 3.3269309115529753, 4.6210742668663425, 4.767395133374406], [4.433441555220737, 4.871083354794075, 10.0, 6.079217646077361, 5.5608114017868555, 5.954484973751552, 4.893539082882221, 4.933267403108636, 5.005374080493352, 7.0737829324130725, 5.613783084712463, 4.802717403519712, 7.170899148589682, 5.316745028434525, 6.821679477597543, 6.024443891348805, 5.88003996034633, 2.9943432786613235, 6.522352281591141, 4.661056402933238, 5.969237842839301, 2.693227900070959, 2.0616288793209008, 1.4086957879126825, 2.4576380032938485, 3.184875016760661, 3.02031550990469, 3.212093719012158, 4.788643332432589, 4.269107526033695, 6.020807408535447, 7.222443853119693, 1.2402280342317544, 2.710518117823661, 7.388015978739413, 3.897117327219532, 4.62487154144993, 6.947144407533841, 5.200235975641399, 3.0589297926728007, 3.239252663516422, 2.9318522236470717, 7.94946974719292, 6.897290460811956, 5.0581436589429085, 5.041012111737579, 2.2074421281564227, 2.2822016961189124, 2.570953668799066, 4.929701400242561, 4.805546378979247, 4.204290245112202, 2.9759007995551876, 5.415921853636365, 3.830350011076244, 6.9854728088280496, 2.749390894750923, 3.4684420392634023, 5.8078730169363855, 6.380516022532814, 3.4268176491973925, 1.1301116603934134, 3.0427124830042533, 6.240186445715481, 6.640209380484463, 2.1417839110054975, 7.485884215554998, 7.046579682456262, 7.36964985313525, 6.988569714876329, 7.030972695981675, 4.31316374673276, 6.2423106722305555, 7.533475549512039, 6.186768785578021, 4.48753947396819, 5.030729801919679, 5.270678634263586, 4.18854423608516, 3.9727019147833085, 0.9549937429539699, 4.062525184765521, 3.3914471133962074, 2.8949698101079315, 4.17665760436082, 2.4522006198172064, 4.282504903522272, 4.14429565043441, 3.3658762341027213, 1.9849427299231783, 3.657908629145464, 2.6068818865674834, 1.3405287210727392, 2.4197031986014563, 0.0, 0.592117420449556, 5.075067276789532, 7.222443853119693, 4.757174210808556, 5.846204770483236, 4.31954977405237, 3.8781623354971435, 4.269107526033695, 4.337897682730094, 2.698941409700788, 4.2663527533346866, 2.8679153430145607, 5.450695362599354, 4.463040842063879, 4.653678255970061, 4.615888720986284, 5.249288115944168, 2.5186897067046456, 3.4527572476572637, 4.34088020964966, 7.163568622371268, 4.312929174926994, 2.7219873918629256, 4.136870316783008, 3.404120793892522, 3.5581879611917917, 3.751428374081089, 3.800349584963135, 4.603182210616912, 6.055442227177153, 5.423222941622844, 5.847911524499382, 4.417536090730335, 3.681310833381204, 5.691258439304347, 4.1076590960489, 6.477658398000861, 4.484130571524873, 3.1251015802477093, 5.196840145800739, 3.041982849997506, 0.9113330739975969, 4.65497277935066, 2.647965362565552, 2.5082808813547706, 4.246954092953249, 5.307961495375987, 2.7461409003238937, 1.71073940735976, 1.8534035708424714, 2.7653858866860164, 1.5736338479579806, 4.289553330368006, 2.836064439428189, 2.214035845766114, 3.541347918493599, 3.986707937356988, 2.753467582205508, 2.2310876516324716, 3.76286010931259, 2.6320441938487833, 4.595456148460238, 4.304601759029276, 2.9310624533232836, 3.808472363023113, 4.585194072479881, 2.307645463163993, 2.352583945080198, 5.085562248635569, 4.0733755681922865, 4.095592607122485, 2.6837973242786965, 4.880271987391652, 2.0406619381888595, 2.5765552756391616, 7.286354147212861, 3.0550616882064894, 3.5506261998493924, 3.99808450275836, 2.2398084393190367, 3.886811674577357, 4.166727004181478, 4.988824660307305, 6.220235718530774, 4.08195654700604, 2.287259046057774, 3.4608361015929434, 3.1132236717433996, 5.714330134118957, 3.6442234223058794, 2.358499599051118, 2.393030825118001, 3.7516513145742034, 2.9776242184880073, 2.34258867802851, 1.7288811783802218, 3.7317569005921767, 4.471253679063278, 4.565192039531171, 2.918610081924137, 5.389089717207779, 3.2519653010586707, 2.5650561969698162, 3.651888318680155, 2.804724837896871, 5.260012015914007, 3.7320652570753805, 3.511744857272765, 1.789399950229445, 5.5609668073573495, 4.450776054469252, 0.7199179169122214, 4.8283789939160755, 4.202654558954121, 8.416209347710115, 3.8048520382814024, 3.275486227806128, 3.1643487900617697, 1.7478963572369683, 5.286207278073255, 3.186686796830257, 3.613045736977783, 3.7218523558422167, 2.431342685896086, 1.7004008459847855, 3.088344559526994, 2.6995424055568877, 2.9365656531859994, 4.194955817161385, 4.367451613486213, 3.224065438009486, 3.771448296638795, 1.8284396792857665, 3.5977889768448494, 4.973261181162725, 4.226578922389078, 4.5447406245996165, 2.537647371450383, 3.2914099485602364, 4.764593266997236, 1.8719085353848919, 6.174044195162659, 2.840408642268467, 4.51771862117938, 3.348090622482129, 3.869621461005279, 3.931924714885972, 4.888271378527179, 3.861781563131153, 4.217789270517817, 5.302640145005619, 4.023352306354343, 2.839279331520206, 2.3885218209766794, 4.958628391731766, 5.6898139766679, 1.4904916622577238, 4.822903792042224, 2.722282755421007, 1.980133616749119, 4.7585366277511705, 3.1488056833913283, 6.895343500573271, 4.321706920927025, 3.7824717125377387, 3.753289349333155, 2.956225390311127, 4.119408244423708, 1.8423634170430008, 5.127081679617338, 4.989386734616668, 3.5528738730990557, 3.7523249818167694, 2.8576586299082867, 6.937597306774301, 4.70703596196811, 3.134531534262271, 2.5943603577548275, 3.89879790327078, 3.850604010861232, 2.322474779784213, 2.5691626009516635, 5.960271949148301, 3.693468751937052, 4.439387070446234, 5.21325930288349, 5.965541937148891, 4.860497452981145, 4.036874931662919, 3.483876564298323, 4.865392643455157, 5.875825182675815, 6.042216590693657, 4.298444457661776, 3.796693594508389, 4.460903834866407, 4.110604322892098, 4.812695322773197, 4.231642162313926, 3.9589376961220792, 3.063004320958999, 6.958372053475933, 5.062681092632205, 2.634973347987676, 5.486268678447524, 3.143264349937025, 2.5367716302257346, 5.476463531988599, 5.720365777244347, 6.317504244104206, 5.016635607339218, 7.860820135355416, 3.572395259026267, 5.6829022207718936, 4.87934032574665, 4.578227206321021, 3.9118405168205563, 3.784747535762379, 3.056263116746141, 5.862827670921237, 2.9426048713182342, 2.760281741951889, 2.247102008932617, 3.8665614306088916, 4.344868726741282, 4.1755333017911225, 6.188612958374838, 5.4008900126779995, 4.921380926349019, 3.963177331454955, 2.7580061428702973, 1.30110242103458, 4.19011865120683, 3.9219164111749287, 5.7699695981077035, 4.4464585122656, 4.537738959063846, 3.4038158505236007, 3.8763716084518856, 3.986479287520921, 3.45180112748053, 5.426676415862771, 6.252088688859656, 3.9458495230564634, 2.735999875833355, 3.5547170974736613, 5.093722606922525, 4.7179697104173215, 2.45257478467431, 4.376668592927779, 2.247486319084281, 4.157404284613692, 3.4343053155880447, 2.6093433711813177, 5.8547244458093886, 2.941757794797358, 4.8501276451892545, 1.4691817239233627])\n"
     ]
    }
   ],
   "source": [
    "# since the human judgement scores are in different scales need to normalize the calculated cosine similarity score scale (0 - 1) --> to relevant dataset human judgment scale for comparison with correlation\n",
    "# For MC and RG - score scale (0 - 4)\n",
    "# For WS353 - score scale (0-10)\n",
    "\n",
    "# normalize score based on min and max scores in each scale\n",
    "def normalize_scores(scores, new_min, new_max):\n",
    "    min_score = min(scores)\n",
    "    max_score = max(scores)\n",
    "    normalized_scores = [new_min + (score - min_score) * (new_max - new_min) / (max_score - min_score) for score in scores]\n",
    "    return normalized_scores\n",
    "\n",
    "# apply normalization to each dataset with the specific scales\n",
    "mc_results_normalized = tuple([normalize_scores(sim_list, 0, 4) for sim_list in mc_results])\n",
    "rg_results_normalized = tuple([normalize_scores(sim_list, 0, 4) for sim_list in rg_results])\n",
    "ws353_results_normalized = tuple([normalize_scores(sim_list, 0, 10) for sim_list in ws353_results])\n",
    "\n",
    "# output the results\n",
    "print(\"MC Results Normalized:\", mc_results_normalized)\n",
    "print(\"RG Results Normalized:\", rg_results_normalized)\n",
    "print(\"WS353 Results Normalized:\", ws353_results_normalized)\n"
   ]
  },
  {
   "cell_type": "code",
   "execution_count": null,
   "metadata": {},
   "outputs": [
    {
     "name": "stdout",
     "output_type": "stream",
     "text": [
      "{'MC': {'Wikipedia2Vec': 0.807868107948331, 'word2vec': 0.792851878067315, 'GloVe': 0.7405472324944988, 'FastText': 0.8527446370208753}, 'RG': {'Wikipedia2Vec': 0.7550908176057172, 'word2vec': 0.7720616049320058, 'GloVe': 0.7516215829234909, 'FastText': 0.8662923573916699}, 'WS353': {'Wikipedia2Vec': 0.6651225158684697, 'word2vec': 0.6525349606146122, 'GloVe': 0.5209313895806791, 'FastText': 0.6980656892930556}}\n"
     ]
    }
   ],
   "source": [
    "from scipy.stats import pearsonr\n",
    "\n",
    "# correlation computation function\n",
    "def compute_correlation(human_scores, model_scores):\n",
    "    \n",
    "    filtered_scores = [(human, model) for human, model in zip(human_scores, model_scores)]\n",
    "    if len(filtered_scores) > 0:\n",
    "        human, model = zip(*filtered_scores)\n",
    "        return pearsonr(human, model)[0]\n",
    "    return None\n",
    "\n",
    "# compute correlations store as a dictionary output for each dataset and model\n",
    "corr_results = {}\n",
    "\n",
    "# define the dataset structure\n",
    "datasets = {'MC': mc_df, 'RG': rg_df, 'WS353': ws353_df}\n",
    "\n",
    "# loop through each dataset and calculate correlation scores\n",
    "for dataset_name, df in datasets.items():\n",
    "\n",
    "    # call normalize functions \n",
    "    if dataset_name == 'MC':\n",
    "        sim_scores = mc_results_normalized\n",
    "    elif dataset_name == 'RG':\n",
    "         sim_scores = rg_results_normalized\n",
    "    else:\n",
    "        sim_scores = ws353_results_normalized\n",
    "\n",
    "    # calculate pearson correlation values\n",
    "    corr_results[dataset_name] = {\n",
    "        'Wikipedia2Vec': compute_correlation(df['score'], sim_scores[0]),\n",
    "        'word2vec': compute_correlation(df['score'], sim_scores[1]),\n",
    "        'GloVe': compute_correlation(df['score'], sim_scores[2]),    \n",
    "        'FastText': compute_correlation(df['score'], sim_scores[3])\n",
    "    }\n",
    "\n",
    "print(corr_results)"
   ]
  },
  {
   "cell_type": "code",
   "execution_count": null,
   "metadata": {},
   "outputs": [
    {
     "name": "stdout",
     "output_type": "stream",
     "text": [
      "       Wikipedia2Vec  word2vec     GloVe  FastText\n",
      "MC          0.807868  0.792852  0.740547  0.852745\n",
      "RG          0.755091  0.772062  0.751622  0.866292\n",
      "WS353       0.665123  0.652535  0.520931  0.698066\n"
     ]
    }
   ],
   "source": [
    "# convert to a DataFrame for tabulating the results\n",
    "corr_df = pd.DataFrame(corr_results).T\n",
    "\n",
    "# output\n",
    "print(corr_df)"
   ]
  },
  {
   "cell_type": "code",
   "execution_count": null,
   "metadata": {},
   "outputs": [
    {
     "data": {
      "image/png": "[encoded data removed]",
      "text/plain": [
       "<Figure size 1000x600 with 1 Axes>"
      ]
     },
     "metadata": {},
     "output_type": "display_data"
    }
   ],
   "source": [
    "import matplotlib.pyplot as plt\n",
    "import pandas as pd\n",
    "import numpy as np\n",
    "import seaborn as sns\n",
    "\n",
    "# set color palette using seaborn\n",
    "# sns.set_palette(\"mako\")\n",
    "sns.set_palette(\"ch:start=.1,rot=-.2\")\n",
    "\n",
    "# set configurations\n",
    "x = np.arange(len(corr_df.index))\n",
    "\n",
    "# initialize \n",
    "fig, ax = plt.subplots(figsize=(10, 6))\n",
    "\n",
    "# plot each model as a group of bars\n",
    "for i, (model,color) in enumerate(zip(corr_df.columns, sns.color_palette())):\n",
    "    ax.bar(x + i*0.2, corr_df[model], width=0.2, label=model, color=color)\n",
    "\n",
    "# plot details\n",
    "ax.set_xlabel('Datasets')\n",
    "ax.set_ylabel('Pearson Correlation Score')\n",
    "ax.set_title('Comparison of pearson correlation scores across vector embedding models and general datasets')\n",
    "ax.set_xticks(x + 0.2 * (len(corr_df.columns) - 1) / 2)\n",
    "ax.set_xticklabels(corr_df.index)\n",
    "ax.set_ylim(0, 1)\n",
    "ax.legend(title=\"Vector Embedding Models\")\n",
    "plt.show()"
   ]
  },
  {
   "cell_type": "markdown",
   "metadata": {},
   "source": [
    "8) Generating a new vector - A convex combination between Wikipedia2Vec vector and FastText vector. (TBD)"
   ]
  },
  {
   "cell_type": "code",
   "execution_count": null,
   "metadata": {},
   "outputs": [],
   "source": []
  }
 ],
 "metadata": {
  "kernelspec": {
   "display_name": "oulu_ac",
   "language": "python",
   "name": "python3"
  },
  "language_info": {
   "codemirror_mode": {
    "name": "ipython",
    "version": 3
   },
   "file_extension": ".py",
   "mimetype": "text/x-python",
   "name": "python",
   "nbconvert_exporter": "python",
   "pygments_lexer": "ipython3",
   "version": "3.9.19"
  }
 },
 "nbformat": 4,
 "nbformat_minor": 2
}
